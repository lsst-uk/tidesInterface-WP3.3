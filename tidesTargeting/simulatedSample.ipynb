{
 "cells": [
  {
   "cell_type": "code",
   "execution_count": 1,
   "id": "respected-decrease",
   "metadata": {},
   "outputs": [
    {
     "data": {
      "text/html": [
       "<style>.container { width:90% !important; }</style>"
      ],
      "text/plain": [
       "<IPython.core.display.HTML object>"
      ]
     },
     "metadata": {},
     "output_type": "display_data"
    }
   ],
   "source": [
    "import lasair\n",
    "import numpy as np\n",
    "import pandas as pd\n",
    "import json\n",
    "import yaml\n",
    "import matplotlib.pyplot as plt\n",
    "from IPython.core.display import display, HTML\n",
    "display(HTML(\"<style>.container { width:90% !important; }</style>\"))\n",
    "pd.options.display.max_columns = 500"
   ]
  },
  {
   "cell_type": "code",
   "execution_count": 20,
   "id": "provincial-worker",
   "metadata": {},
   "outputs": [],
   "source": [
    "def lightcurveSatify(criteria,lightcurve):\n",
    "    '''\n",
    "    Our paper states that the tides slection criteria is as follows:\n",
    "    - only consider griz\n",
    "    - must have at least 3 5sigma detections\n",
    "    - Must have 5sigma detections across 2 nights\n",
    "    - Must reach brighter than 22.5mag\n",
    "    '''\n",
    "    needFilters = criteria['filters']\n",
    "    needSignificance = criteria['significance']\n",
    "    minBands = criteria['minBands']\n",
    "    minNights = criteria['minNights']\n",
    "    magLimit = criteria['magLimit']\n",
    "    \n",
    "    filtersBool = np.array([filterDict[x] in inputCriteriaName['filters'] for x in lightcurve['fid']])\n",
    "    significanceBool = 1.09/lightcurve['sigmapsf'] >= needSignificance\n",
    "    \n",
    "    sigAndFilterBool = filtersBool & significanceBool\n",
    "    \n",
    "    meetMinBands = len(np.unique(lightcurve['fid'][sigAndFilterBool])) >= minBands\n",
    "    \n",
    "    meetMinNight = len(np.unique(lightcurve['nid'][sigAndFilterBool])) >= minNights\n",
    "    \n",
    "    meetMagLimit = min(lightcurve['magpsf']) < magLimit\n",
    "    \n",
    "    if meetMinBands == meetMinNight == meetMagLimit == True:\n",
    "        return True\n",
    "    else:\n",
    "        return False\n",
    "\n",
    "def plotLightCurve(name, lc, triggerDate=None, saveName=None):\n",
    "    if 'diffmaglim' in lc.columns:\n",
    "        plt.scatter(lc['jd'][nonDets & gIDX], lc['diffmaglim'][nonDets & gIDX], marker='v', color='green', alpha=0.5)\n",
    "        plt.scatter(lc['jd'][nonDets & rIDX], lc['diffmaglim'][nonDets & rIDX], marker='v', color='red', alpha=0.5)\n",
    "\n",
    "    plt.errorbar(lc['jd'][gIDX], lc['magpsf'][gIDX], yerr=lc['sigmapsf'][gIDX], fmt='o', color='green', label='g')\n",
    "    plt.errorbar(lc['jd'][rIDX], lc['magpsf'][rIDX], yerr=lc['sigmapsf'][rIDX], fmt='o', color='red', label='r')\n",
    "    \n",
    "    if triggerDate is not None:\n",
    "        plt.axvline(triggerDate, ls='--', c='k', label='Trigger Date')\n",
    "    plt.gca().invert_yaxis()\n",
    "    plt.title(name)\n",
    "    plt.legend(loc='upper right')\n",
    "    plt.xlabel('JD')\n",
    "    plt.ylabel('Mag')\n",
    "    \n",
    "    if saveName is not None:\n",
    "        plt.savefig(saveName, dpi=300, bbox_inches='tight')"
   ]
  },
  {
   "cell_type": "code",
   "execution_count": 17,
   "id": "excellent-recycling",
   "metadata": {},
   "outputs": [],
   "source": [
    "##Open Input YAML File\n",
    "inputCriteriaPath = './tidesSelectionFunctions.yml'\n",
    "inputCriteriaOpen = yaml.load(open(inputCriteriaPath), Loader=yaml.SafeLoader)\n",
    "inputCriteriaName = inputCriteriaOpen['tidesSNZTFSelect']"
   ]
  },
  {
   "cell_type": "code",
   "execution_count": 8,
   "id": "rising-timing",
   "metadata": {},
   "outputs": [],
   "source": [
    "filterDict = {1:'g', 2:'r', 'g':1, 'r':2}"
   ]
  },
  {
   "cell_type": "code",
   "execution_count": 2,
   "id": "dress-postcard",
   "metadata": {},
   "outputs": [],
   "source": [
    "f=open('./42SN-likecandidatesinlast14days.json')\n",
    "testSne = json.load(f)\n",
    "numZTFtest = len(testSne['digest'])\n",
    "ztfNames = np.unique(np.array(([testSne['digest'][i]['objectId'] for i in range(100)]))) #Let's just take the first 100 to not spam the Lasair API"
   ]
  },
  {
   "cell_type": "code",
   "execution_count": 3,
   "id": "familiar-marijuana",
   "metadata": {},
   "outputs": [],
   "source": [
    "token = 'bb6772e74473f2c7bceb698ae1c377d83b8f7223'\n",
    "L = lasair.lasair_client(token)\n",
    "c = L.lightcurves(ztfNames)\n",
    "#print(c)"
   ]
  },
  {
   "cell_type": "code",
   "execution_count": 10,
   "id": "vital-accounting",
   "metadata": {},
   "outputs": [],
   "source": [
    "passFail = []"
   ]
  },
  {
   "cell_type": "code",
   "execution_count": 21,
   "id": "nasty-posting",
   "metadata": {},
   "outputs": [
    {
     "name": "stdout",
     "output_type": "stream",
     "text": [
      "ZTF18aabejsk\n",
      "ZTF18aagtdcu\n",
      "ZTF18aampabj\n",
      "ZTF18aaoinug\n",
      "ZTF18aatonsq\n",
      "ZTF18aaudcpk\n",
      "ZTF18aavvcie\n",
      "ZTF18aawhnyz\n",
      "ZTF18aawlxfy\n",
      "ZTF18aaxsgaq\n",
      "ZTF18aaybvhx\n",
      "ZTF18aayltmt\n",
      "ZTF18abaqetc\n",
      "ZTF18abcfcka\n",
      "ZTF18abeainm\n",
      "ZTF18abeiqpq\n",
      "ZTF18abeocxc\n",
      "ZTF18abewqhi\n",
      "ZTF18abfmpxn\n",
      "ZTF18abijlar\n",
      "ZTF18abikohu\n",
      "ZTF18abjgzxw\n",
      "ZTF18abjrdjs\n",
      "ZTF18abkobtt\n"
     ]
    },
    {
     "name": "stderr",
     "output_type": "stream",
     "text": [
      "/home/cf5g09/anaconda3/envs/tides/lib/python3.9/site-packages/numpy/core/_asarray.py:102: UserWarning: Warning: converting a masked element to nan.\n",
      "  return array(a, dtype, copy=False, order=order)\n"
     ]
    },
    {
     "name": "stdout",
     "output_type": "stream",
     "text": [
      "ZTF18abkqldw\n"
     ]
    },
    {
     "name": "stderr",
     "output_type": "stream",
     "text": [
      "/home/cf5g09/anaconda3/envs/tides/lib/python3.9/site-packages/numpy/core/_asarray.py:102: UserWarning: Warning: converting a masked element to nan.\n",
      "  return array(a, dtype, copy=False, order=order)\n"
     ]
    },
    {
     "name": "stdout",
     "output_type": "stream",
     "text": [
      "ZTF18abkwjcz\n",
      "ZTF18ablmiep\n"
     ]
    },
    {
     "name": "stderr",
     "output_type": "stream",
     "text": [
      "/home/cf5g09/anaconda3/envs/tides/lib/python3.9/site-packages/numpy/core/_asarray.py:102: UserWarning: Warning: converting a masked element to nan.\n",
      "  return array(a, dtype, copy=False, order=order)\n"
     ]
    },
    {
     "name": "stdout",
     "output_type": "stream",
     "text": [
      "ZTF18ablmjxl\n"
     ]
    },
    {
     "name": "stderr",
     "output_type": "stream",
     "text": [
      "/home/cf5g09/anaconda3/envs/tides/lib/python3.9/site-packages/numpy/core/_asarray.py:102: UserWarning: Warning: converting a masked element to nan.\n",
      "  return array(a, dtype, copy=False, order=order)\n"
     ]
    },
    {
     "name": "stdout",
     "output_type": "stream",
     "text": [
      "ZTF18ablrlbm\n",
      "ZTF18abmhxgi\n",
      "ZTF18abqavrw\n",
      "ZTF18abrwpvo\n",
      "ZTF18abrzevn\n",
      "ZTF18abrzuwi\n",
      "ZTF18abseldk\n",
      "ZTF18absewls\n",
      "ZTF18absnhwp\n",
      "ZTF18abucphk\n",
      "ZTF18abvivzm\n",
      "ZTF18abvojky\n",
      "ZTF18abvvkpp\n",
      "ZTF18abvvkut\n",
      "ZTF18acauhtv\n",
      "ZTF18acaxxgr\n",
      "ZTF18accbkcd\n",
      "ZTF18accxevi\n",
      "ZTF18acireod\n",
      "ZTF18acnzkwo\n",
      "ZTF19aafoboj\n",
      "ZTF19aaodvfx\n"
     ]
    },
    {
     "name": "stderr",
     "output_type": "stream",
     "text": [
      "/home/cf5g09/anaconda3/envs/tides/lib/python3.9/site-packages/numpy/core/_asarray.py:102: UserWarning: Warning: converting a masked element to nan.\n",
      "  return array(a, dtype, copy=False, order=order)\n"
     ]
    },
    {
     "name": "stdout",
     "output_type": "stream",
     "text": [
      "ZTF19aaphtof\n",
      "ZTF19aaqapij\n",
      "ZTF19aardooq\n",
      "ZTF19aascfdf\n",
      "ZTF19aaseizn\n",
      "ZTF19aasgcvz\n",
      "ZTF19aasgmdx\n",
      "ZTF19aatvlir\n",
      "ZTF19aatyrcy\n",
      "ZTF19aavtoiu\n",
      "ZTF19abfugkj\n",
      "ZTF19abjtlwo\n",
      "ZTF19abkjbnq\n",
      "ZTF19ablhjzt\n",
      "ZTF19abpuyms\n",
      "ZTF19abqmptj\n",
      "ZTF19abzhubs\n",
      "ZTF19aculisr\n",
      "ZTF20aarvuap\n",
      "ZTF20aasivtu\n",
      "ZTF20aaurdgf\n",
      "ZTF20aazwgdx\n",
      "ZTF20abazcit\n",
      "ZTF20abfacep\n",
      "ZTF20abzvaks\n",
      "ZTF20abzvcun\n",
      "ZTF20achxjut\n",
      "ZTF20acinxhb\n",
      "ZTF20acpcjxu\n",
      "ZTF20acpolji\n",
      "ZTF21aalohuy\n",
      "ZTF21aatlnmw\n",
      "ZTF21aatlpza\n",
      "ZTF21aazfoay\n",
      "ZTF21abfvqyz\n",
      "ZTF21abrsmnp\n",
      "ZTF21abscqdw\n",
      "ZTF22aaafmxt\n",
      "ZTF22aaafpav\n",
      "ZTF22aaafpbm\n",
      "ZTF22aaafqos\n",
      "ZTF22aaafqsp\n",
      "ZTF22aaajuvn\n",
      "ZTF22aaaoxpv\n",
      "ZTF22aaapcau\n",
      "ZTF22aaaurkt\n",
      "ZTF22aaaysmx\n",
      "ZTF22aabgddv\n",
      "ZTF22aabosmb\n",
      "ZTF22aabwzbn\n"
     ]
    }
   ],
   "source": [
    "for i in range(len(c)): #Change the range to len(c)\n",
    "    ztfN = ztfNames[i]\n",
    "    print(ztfN)\n",
    "    lc = pd.json_normalize(c[i])\n",
    "    gIDX = lc['fid']==1\n",
    "    rIDX = lc['fid']==2\n",
    "    nonDets = lc['candid'].isna()\n",
    "    FiveSig = 1.09/lc['sigmapsf'] >= 5\n",
    "    \n",
    "    ##Does the whole object Pass/Fail our cuts\n",
    "    wholePF = lightcurveSatify(inputCriteriaName, lc)\n",
    "    passFail.append(wholePF)\n",
    "    if wholePF == True:\n",
    "        ## Now we step through all the detections to test _when_ the object passed\n",
    "        datesTest = np.unique(lc['jd'][~nonDets])\n",
    "        pf = np.array(list((map(lambda x: lightcurveSatify(inputCriteriaName, lc[lc['jd']<=x]), datesTest))))\n",
    "        dateItPasses = min(datesTest[pf])\n",
    "    else: \n",
    "        dateItPasses = None\n",
    "    \n",
    "    plotLightCurve(str(ztfN),lc,triggerDate=dateItPasses, saveName='./testOutputFigures/'+str(ztfN)+'.png')\n",
    "    plt.close()\n",
    "#listofObjectsPF = np.column_stack((ztfNames,np.array(passFail))"
   ]
  },
  {
   "cell_type": "code",
   "execution_count": null,
   "id": "selective-carry",
   "metadata": {},
   "outputs": [],
   "source": []
  }
 ],
 "metadata": {
  "kernelspec": {
   "display_name": "TiDES",
   "language": "python",
   "name": "tides"
  },
  "language_info": {
   "codemirror_mode": {
    "name": "ipython",
    "version": 3
   },
   "file_extension": ".py",
   "mimetype": "text/x-python",
   "name": "python",
   "nbconvert_exporter": "python",
   "pygments_lexer": "ipython3",
   "version": "3.9.2"
  }
 },
 "nbformat": 4,
 "nbformat_minor": 5
}
