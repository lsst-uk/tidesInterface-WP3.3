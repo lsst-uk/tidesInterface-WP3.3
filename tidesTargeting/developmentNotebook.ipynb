{
 "cells": [
  {
   "cell_type": "code",
   "execution_count": 32,
   "id": "greatest-rogers",
   "metadata": {},
   "outputs": [
    {
     "data": {
      "text/html": [
       "<style>.container { width:90% !important; }</style>"
      ],
      "text/plain": [
       "<IPython.core.display.HTML object>"
      ]
     },
     "metadata": {},
     "output_type": "display_data"
    }
   ],
   "source": [
    "import lasair\n",
    "import numpy as np\n",
    "import pandas as pd\n",
    "import json\n",
    "import yaml\n",
    "import matplotlib.pyplot as plt\n",
    "from IPython.core.display import display, HTML\n",
    "display(HTML(\"<style>.container { width:90% !important; }</style>\"))\n",
    "pd.options.display.max_columns = 500"
   ]
  },
  {
   "cell_type": "code",
   "execution_count": 49,
   "id": "unauthorized-league",
   "metadata": {},
   "outputs": [],
   "source": [
    "f=open('./42SN-likecandidatesinlast14days.json')\n",
    "testSne = json.load(f)"
   ]
  },
  {
   "cell_type": "code",
   "execution_count": 65,
   "id": "statutory-watson",
   "metadata": {},
   "outputs": [],
   "source": [
    "numZTFtest = len(testSne['digest'])\n",
    "ztfNames = np.unique(np.array(([testSne['digest'][i]['objectId'] for i in range(100)]))) #Let's just take the first 100 to not spam the Lasair API"
   ]
  },
  {
   "cell_type": "code",
   "execution_count": 66,
   "id": "concrete-ebony",
   "metadata": {},
   "outputs": [
    {
     "data": {
      "text/plain": [
       "100"
      ]
     },
     "execution_count": 66,
     "metadata": {},
     "output_type": "execute_result"
    }
   ],
   "source": [
    "len(ztfNames)"
   ]
  },
  {
   "cell_type": "code",
   "execution_count": 67,
   "id": "nominated-negative",
   "metadata": {},
   "outputs": [
    {
     "data": {
      "text/plain": [
       "array(['ZTF18aabejsk', 'ZTF18aagtdcu', 'ZTF18aampabj', 'ZTF18aaoinug',\n",
       "       'ZTF18aatonsq', 'ZTF18aaudcpk', 'ZTF18aavvcie', 'ZTF18aawhnyz',\n",
       "       'ZTF18aawlxfy', 'ZTF18aaxsgaq', 'ZTF18aaybvhx', 'ZTF18aayltmt',\n",
       "       'ZTF18abaqetc', 'ZTF18abcfcka', 'ZTF18abeainm', 'ZTF18abeiqpq',\n",
       "       'ZTF18abeocxc', 'ZTF18abewqhi', 'ZTF18abfmpxn', 'ZTF18abijlar',\n",
       "       'ZTF18abikohu', 'ZTF18abjgzxw', 'ZTF18abjrdjs', 'ZTF18abkobtt',\n",
       "       'ZTF18abkqldw', 'ZTF18abkwjcz', 'ZTF18ablmiep', 'ZTF18ablmjxl',\n",
       "       'ZTF18ablrlbm', 'ZTF18abmhxgi', 'ZTF18abqavrw', 'ZTF18abrwpvo',\n",
       "       'ZTF18abrzevn', 'ZTF18abrzuwi', 'ZTF18abseldk', 'ZTF18absewls',\n",
       "       'ZTF18absnhwp', 'ZTF18abucphk', 'ZTF18abvivzm', 'ZTF18abvojky',\n",
       "       'ZTF18abvvkpp', 'ZTF18abvvkut', 'ZTF18acauhtv', 'ZTF18acaxxgr',\n",
       "       'ZTF18accbkcd', 'ZTF18accxevi', 'ZTF18acireod', 'ZTF18acnzkwo',\n",
       "       'ZTF19aafoboj', 'ZTF19aaodvfx', 'ZTF19aaphtof', 'ZTF19aaqapij',\n",
       "       'ZTF19aardooq', 'ZTF19aascfdf', 'ZTF19aaseizn', 'ZTF19aasgcvz',\n",
       "       'ZTF19aasgmdx', 'ZTF19aatvlir', 'ZTF19aatyrcy', 'ZTF19aavtoiu',\n",
       "       'ZTF19abfugkj', 'ZTF19abjtlwo', 'ZTF19abkjbnq', 'ZTF19ablhjzt',\n",
       "       'ZTF19abpuyms', 'ZTF19abqmptj', 'ZTF19abzhubs', 'ZTF19aculisr',\n",
       "       'ZTF20aarvuap', 'ZTF20aasivtu', 'ZTF20aaurdgf', 'ZTF20aazwgdx',\n",
       "       'ZTF20abazcit', 'ZTF20abfacep', 'ZTF20abzvaks', 'ZTF20abzvcun',\n",
       "       'ZTF20achxjut', 'ZTF20acinxhb', 'ZTF20acpcjxu', 'ZTF20acpolji',\n",
       "       'ZTF21aalohuy', 'ZTF21aatlnmw', 'ZTF21aatlpza', 'ZTF21aazfoay',\n",
       "       'ZTF21abfvqyz', 'ZTF21abrsmnp', 'ZTF21abscqdw', 'ZTF22aaafmxt',\n",
       "       'ZTF22aaafpav', 'ZTF22aaafpbm', 'ZTF22aaafqos', 'ZTF22aaafqsp',\n",
       "       'ZTF22aaajuvn', 'ZTF22aaaoxpv', 'ZTF22aaapcau', 'ZTF22aaaurkt',\n",
       "       'ZTF22aaaysmx', 'ZTF22aabgddv', 'ZTF22aabosmb', 'ZTF22aabwzbn'],\n",
       "      dtype='<U12')"
      ]
     },
     "execution_count": 67,
     "metadata": {},
     "output_type": "execute_result"
    }
   ],
   "source": [
    "ztfNames"
   ]
  },
  {
   "cell_type": "code",
   "execution_count": 2,
   "id": "caroline-music",
   "metadata": {},
   "outputs": [],
   "source": [
    "# my_topic = 'lasair_2SN-likecandidates'\n",
    "# my_topicTiDES = 'lasair_19tidesSelect'"
   ]
  },
  {
   "cell_type": "code",
   "execution_count": 3,
   "id": "chubby-settlement",
   "metadata": {},
   "outputs": [
    {
     "name": "stdout",
     "output_type": "stream",
     "text": [
      "Using group_id test333\n"
     ]
    }
   ],
   "source": [
    "# from random import randrange\n",
    "# group_id = 'test{}'.format(randrange(1000))\n",
    "# #group_id = 'testTiDES1'\n",
    "# print('Using group_id', group_id)"
   ]
  },
  {
   "cell_type": "code",
   "execution_count": 4,
   "id": "difficult-preservation",
   "metadata": {},
   "outputs": [],
   "source": [
    "# consumer = lasair.lasair_consumer('kafka.lsst.ac.uk:9092', group_id, my_topicTiDES)"
   ]
  },
  {
   "cell_type": "code",
   "execution_count": 5,
   "id": "pending-nursery",
   "metadata": {},
   "outputs": [],
   "source": [
    "# n = 0\n",
    "# while n < 10:\n",
    "#     msg = consumer.poll(timeout=20)\n",
    "#     if msg is None:\n",
    "#         break\n",
    "#     if msg.error():\n",
    "#         print(str(msg.error()))\n",
    "#         break\n",
    "#     jmsg = json.loads(msg.value())\n",
    "#     print(json.dumps(jmsg, indent=2))\n",
    "#     n += 1"
   ]
  },
  {
   "cell_type": "code",
   "execution_count": 68,
   "id": "instructional-school",
   "metadata": {},
   "outputs": [
    {
     "name": "stdout",
     "output_type": "stream",
     "text": [
      "[[{'candid': 1708190375815015014, 'jd': 2459462.6903704, 'ra': 273.3662492, 'dec': 6.9477068, 'fid': 2, 'nid': 1708, 'magpsf': 16.325199127197266, 'sigmapsf': 0.03949100151658058, 'isdiffpos': 't', 'ssdistnr': None, 'ssnamenr': None, 'drb': 0.999641478061676}, {'candid': 1708271005815015017, 'jd': 2459462.7710069, 'ra': 273.3662438, 'dec': 6.9477041, 'fid': 1, 'nid': 1708, 'magpsf': 16.288299560546875, 'sigmapsf': 0.03523100167512894, 'isdiffpos': 't', 'ssdistnr': None, 'ssnamenr': None, 'drb': None}, {'candid': 1710174825815015013, 'jd': 2459464.6748264, 'ra': 273.3662445, 'dec': 6.9477175, 'fid': 1, 'nid': 1710, 'magpsf': 16.6156005859375, 'sigmapsf': 0.03928099945187569, 'isdiffpos': 't', 'ssdistnr': None, 'ssnamenr': None, 'drb': None}, {'candid': 1710174825815025013, 'jd': 2459464.6748264, 'ra': 273.3662445, 'dec': 6.9477175, 'fid': 1, 'nid': 1710, 'magpsf': 16.6156005859375, 'sigmapsf': 0.03928099945187569, 'isdiffpos': 't', 'ssdistnr': None, 'ssnamenr': None, 'drb': None}, {'candid': 1710276125815015014, 'jd': 2459464.7761227, 'ra': 273.3662455, 'dec': 6.9477236, 'fid': 2, 'nid': 1710, 'magpsf': 16.561399459838867, 'sigmapsf': 0.05061500146985054, 'isdiffpos': 't', 'ssdistnr': None, 'ssnamenr': None, 'drb': None}, {'candid': 1710276125815025014, 'jd': 2459464.7761227, 'ra': 273.3662455, 'dec': 6.9477236, 'fid': 2, 'nid': 1710, 'magpsf': 16.561399459838867, 'sigmapsf': 0.05061500146985054, 'isdiffpos': 't', 'ssdistnr': None, 'ssnamenr': None, 'drb': None}, {'candid': 1712166575815015025, 'jd': 2459466.6665741, 'ra': 273.366238, 'dec': 6.947704, 'fid': 2, 'nid': 1712, 'magpsf': 16.901199340820312, 'sigmapsf': 0.03772599995136261, 'isdiffpos': 't', 'ssdistnr': None, 'ssnamenr': None, 'drb': None}, {'candid': 1712213645815015010, 'jd': 2459466.7136458, 'ra': 273.3662567, 'dec': 6.9477152, 'fid': 1, 'nid': 1712, 'magpsf': 16.890499114990234, 'sigmapsf': 0.03982999920845032, 'isdiffpos': 't', 'ssdistnr': None, 'ssnamenr': None, 'drb': None}, {'candid': 1714173545815015012, 'jd': 2459468.6735417, 'ra': 273.3662479, 'dec': 6.9477224, 'fid': 1, 'nid': 1714, 'magpsf': 17.130399703979492, 'sigmapsf': 0.04899799823760986, 'isdiffpos': 't', 'ssdistnr': None, 'ssnamenr': None, 'drb': None}, {'candid': 1714233375815015020, 'jd': 2459468.7333796, 'ra': 273.3662434, 'dec': 6.9477274, 'fid': 2, 'nid': 1714, 'magpsf': 17.119699478149414, 'sigmapsf': 0.0463780015707016, 'isdiffpos': 't', 'ssdistnr': None, 'ssnamenr': None, 'drb': None}, {'candid': 1716149735815015015, 'jd': 2459470.6497338, 'ra': 273.366249, 'dec': 6.9477109, 'fid': 2, 'nid': 1716, 'magpsf': 17.478900909423828, 'sigmapsf': 0.047352999448776245, 'isdiffpos': 't', 'ssdistnr': None, 'ssnamenr': None, 'drb': None}, {'candid': 1716191415815015015, 'jd': 2459470.691412, 'ra': 273.36625, 'dec': 6.9477101, 'fid': 1, 'nid': 1716, 'magpsf': 17.41160011291504, 'sigmapsf': 0.04215500131249428, 'isdiffpos': 't', 'ssdistnr': None, 'ssnamenr': None, 'drb': None}, {'candid': 1719192675815015008, 'jd': 2459473.6926736, 'ra': 273.3662504, 'dec': 6.9477209, 'fid': 1, 'nid': 1719, 'magpsf': 17.653200149536133, 'sigmapsf': 0.051267001777887344, 'isdiffpos': '1', 'ssdistnr': None, 'ssnamenr': None, 'drb': None}, {'candid': 1719232635815015010, 'jd': 2459473.7326389, 'ra': 273.3662398, 'dec': 6.9477005, 'fid': 2, 'nid': 1719, 'magpsf': 17.718196868896484, 'sigmapsf': 0.050859853625297546, 'isdiffpos': 't', 'ssdistnr': -999.0, 'ssnamenr': 'null', 'drb': None}, {'candid': 1887498465815015021, 'jd': 2459641.9984606, 'ra': 273.3662496, 'dec': 6.9477033, 'fid': 2, 'nid': 1887, 'magpsf': 17.2987003326416, 'sigmapsf': 0.04858599975705147, 'isdiffpos': '1', 'ssdistnr': None, 'ssnamenr': None, 'drb': 1.0}, {'candid': 1887510025815015020, 'jd': 2459642.0100231, 'ra': 273.366238, 'dec': 6.947727, 'fid': 1, 'nid': 1887, 'magpsf': 17.250680923461914, 'sigmapsf': 0.043115220963954926, 'isdiffpos': 't', 'ssdistnr': -999.0, 'ssnamenr': 'null', 'drb': None}, {'jd': 2459435.7075231, 'fid': 1, 'diffmaglim': 20.76759910583496}, {'jd': 2459438.7125694, 'fid': 1, 'diffmaglim': 20.167600631713867}, {'jd': 2459440.7706134, 'fid': 1, 'diffmaglim': 20.581499099731445}, {'jd': 2459443.7059722, 'fid': 1, 'diffmaglim': 19.26799964904785}, {'jd': 2459443.7773495, 'fid': 2, 'diffmaglim': 19.332599639892578}, {'jd': 2459446.7701042, 'fid': 1, 'diffmaglim': 19.15060043334961}, {'jd': 2459448.6705671, 'fid': 1, 'diffmaglim': 19.54840087890625}, {'jd': 2459448.7332639, 'fid': 2, 'diffmaglim': 19.11440086364746}, {'jd': 2459450.7287963, 'fid': 1, 'diffmaglim': 19.41790008544922}, {'jd': 2459450.7908796, 'fid': 2, 'diffmaglim': 18.983400344848633}, {'jd': 2459452.7278472, 'fid': 2, 'diffmaglim': 20.397499084472656}, {'jd': 2459452.7961574, 'fid': 1, 'diffmaglim': 19.773700714111328}, {'jd': 2459454.7108912, 'fid': 1, 'diffmaglim': 20.502300262451172}, {'jd': 2459454.7895718, 'fid': 2, 'diffmaglim': 20.138099670410156}, {'jd': 2459458.6723958, 'fid': 1, 'diffmaglim': 20.536500930786133}, {'jd': 2459460.6902894, 'fid': 2, 'diffmaglim': 20.68779945373535}, {'jd': 2459460.7749884, 'fid': 1, 'diffmaglim': 20.10070037841797}, {'jd': 2459626.0388194, 'fid': 1, 'diffmaglim': 18.963600158691406}, {'jd': 2459630.0011458, 'fid': 2, 'diffmaglim': 19.252700805664062}, {'jd': 2459637.0041667, 'fid': 1, 'diffmaglim': 19.64150047302246}, {'jd': 2459640.0162384, 'fid': 2, 'diffmaglim': 19.56719970703125}], [{'candid': 1582404031615035005, 'jd': 2459336.9040394, 'ra': 239.1742503, 'dec': 68.3786189, 'fid': 1, 'nid': 1582, 'magpsf': 19.71969985961914, 'sigmapsf': 0.20558999478816986, 'isdiffpos': 't', 'ssdistnr': None, 'ssnamenr': None, 'drb': None}, {'candid': 1585367281615015011, 'jd': 2459339.8672801, 'ra': 239.1738591, 'dec': 68.3787455, 'fid': 1, 'nid': 1585, 'magpsf': 19.729700088500977, 'sigmapsf': 0.1431950032711029, 'isdiffpos': 't', 'ssdistnr': None, 'ssnamenr': None, 'drb': None}, {'candid': 1587328941615015023, 'jd': 2459341.8289468, 'ra': 239.1740442, 'dec': 68.3786226, 'fid': 1, 'nid': 1587, 'magpsf': 19.79840087890625, 'sigmapsf': 0.12085700035095215, 'isdiffpos': 't', 'ssdistnr': None, 'ssnamenr': None, 'drb': None}, {'candid': 1588387252915015015, 'jd': 2459342.8872569, 'ra': 239.1742599, 'dec': 68.3787169, 'fid': 1, 'nid': 1588, 'magpsf': 19.60449981689453, 'sigmapsf': 0.14295299351215363, 'isdiffpos': 't', 'ssdistnr': None, 'ssnamenr': None, 'drb': None}, {'candid': 1589289741615015013, 'jd': 2459343.7897454, 'ra': 239.1739606, 'dec': 68.3786567, 'fid': 1, 'nid': 1589, 'magpsf': 19.321500778198242, 'sigmapsf': 0.11414799839258194, 'isdiffpos': 't', 'ssdistnr': None, 'ssnamenr': None, 'drb': None}, {'candid': 1591354081615015013, 'jd': 2459345.8540856, 'ra': 239.1741772, 'dec': 68.3788235, 'fid': 2, 'nid': 1591, 'magpsf': 19.204200744628906, 'sigmapsf': 0.11118300259113312, 'isdiffpos': 't', 'ssdistnr': None, 'ssnamenr': None, 'drb': None}, {'candid': 1591371032915015007, 'jd': 2459345.8710301, 'ra': 239.1742672, 'dec': 68.3786471, 'fid': 1, 'nid': 1591, 'magpsf': 19.05900001525879, 'sigmapsf': 0.12619000673294067, 'isdiffpos': 't', 'ssdistnr': None, 'ssnamenr': None, 'drb': None}, {'candid': 1591383951615015020, 'jd': 2459345.8839583, 'ra': 239.1740567, 'dec': 68.3786799, 'fid': 1, 'nid': 1591, 'magpsf': 18.997900009155273, 'sigmapsf': 0.10988199710845947, 'isdiffpos': 't', 'ssdistnr': None, 'ssnamenr': None, 'drb': None}, {'candid': 1593343002915015004, 'jd': 2459347.8430093, 'ra': 239.1742347, 'dec': 68.3786585, 'fid': 2, 'nid': 1593, 'magpsf': 18.48859977722168, 'sigmapsf': 0.08543699979782104, 'isdiffpos': 't', 'ssdistnr': None, 'ssnamenr': None, 'drb': None}, {'candid': 1593407242915015016, 'jd': 2459347.9072454, 'ra': 239.1742797, 'dec': 68.3786968, 'fid': 1, 'nid': 1593, 'magpsf': 18.945600509643555, 'sigmapsf': 0.08895500004291534, 'isdiffpos': 't', 'ssdistnr': None, 'ssnamenr': None, 'drb': None}, {'candid': 1595307981615015013, 'jd': 2459349.8079861, 'ra': 239.174134, 'dec': 68.3786431, 'fid': 2, 'nid': 1595, 'magpsf': 18.7893009185791, 'sigmapsf': 0.12587200105190277, 'isdiffpos': 't', 'ssdistnr': None, 'ssnamenr': None, 'drb': None}, {'candid': 1595329052915015018, 'jd': 2459349.8290509, 'ra': 239.17419, 'dec': 68.3786973, 'fid': 2, 'nid': 1595, 'magpsf': 18.243499755859375, 'sigmapsf': 0.11484300345182419, 'isdiffpos': 't', 'ssdistnr': None, 'ssnamenr': None, 'drb': None}, {'candid': 1595371851615015016, 'jd': 2459349.8718519, 'ra': 239.1741072, 'dec': 68.3786234, 'fid': 1, 'nid': 1595, 'magpsf': 18.800100326538086, 'sigmapsf': 0.08331900089979172, 'isdiffpos': 't', 'ssdistnr': None, 'ssnamenr': None, 'drb': None}, {'candid': 1595374222915015012, 'jd': 2459349.8742245, 'ra': 239.174201, 'dec': 68.3786693, 'fid': 1, 'nid': 1595, 'magpsf': 18.752099990844727, 'sigmapsf': 0.08608800172805786, 'isdiffpos': 't', 'ssdistnr': None, 'ssnamenr': None, 'drb': None}, {'candid': 1598291591615015005, 'jd': 2459352.7915972, 'ra': 239.1742219, 'dec': 68.3786807, 'fid': 2, 'nid': 1598, 'magpsf': 18.32670021057129, 'sigmapsf': 0.07599599659442902, 'isdiffpos': 't', 'ssdistnr': None, 'ssnamenr': None, 'drb': None}, {'candid': 1600281631615015014, 'jd': 2459354.7816319, 'ra': 239.1744787, 'dec': 68.3787892, 'fid': 2, 'nid': 1600, 'magpsf': 18.335100173950195, 'sigmapsf': 0.09230499714612961, 'isdiffpos': 't', 'ssdistnr': None, 'ssnamenr': None, 'drb': None}, {'candid': 1600372691615015007, 'jd': 2459354.8726968, 'ra': 239.1739996, 'dec': 68.3785868, 'fid': 1, 'nid': 1600, 'magpsf': 18.442399978637695, 'sigmapsf': 0.09415700286626816, 'isdiffpos': 't', 'ssdistnr': None, 'ssnamenr': None, 'drb': None}, {'candid': 1600389732915015011, 'jd': 2459354.8897338, 'ra': 239.1741655, 'dec': 68.3787722, 'fid': 1, 'nid': 1600, 'magpsf': 18.50830078125, 'sigmapsf': 0.10761100053787231, 'isdiffpos': 't', 'ssdistnr': None, 'ssnamenr': None, 'drb': None}, {'candid': 1600409842915015016, 'jd': 2459354.9098495, 'ra': 239.1740701, 'dec': 68.378891, 'fid': 2, 'nid': 1600, 'magpsf': 18.108699798583984, 'sigmapsf': 0.08894000202417374, 'isdiffpos': 't', 'ssdistnr': None, 'ssnamenr': None, 'drb': None}, {'candid': 1604343031615015016, 'jd': 2459358.8430324, 'ra': 239.1742022, 'dec': 68.3786999, 'fid': 2, 'nid': 1604, 'magpsf': 18.05739974975586, 'sigmapsf': 0.06250999867916107, 'isdiffpos': 't', 'ssdistnr': None, 'ssnamenr': None, 'drb': None}, {'candid': 1604368722915015005, 'jd': 2459358.8687269, 'ra': 239.1741759, 'dec': 68.378646, 'fid': 2, 'nid': 1604, 'magpsf': 17.882699966430664, 'sigmapsf': 0.07218799740076065, 'isdiffpos': 't', 'ssdistnr': None, 'ssnamenr': None, 'drb': None}, {'candid': 1604434031615015006, 'jd': 2459358.9340394, 'ra': 239.1740858, 'dec': 68.3786336, 'fid': 1, 'nid': 1604, 'magpsf': 18.29159927368164, 'sigmapsf': 0.09264300018548965, 'isdiffpos': 't', 'ssdistnr': None, 'ssnamenr': None, 'drb': None}, {'candid': 1604448572915015016, 'jd': 2459358.9485764, 'ra': 239.1743936, 'dec': 68.3785597, 'fid': 1, 'nid': 1604, 'magpsf': 18.337600708007812, 'sigmapsf': 0.11554700136184692, 'isdiffpos': 't', 'ssdistnr': None, 'ssnamenr': None, 'drb': None}, {'candid': 1607320761615015007, 'jd': 2459361.8207639, 'ra': 239.1740546, 'dec': 68.3786116, 'fid': 1, 'nid': 1607, 'magpsf': 18.217100143432617, 'sigmapsf': 0.09566900134086609, 'isdiffpos': 't', 'ssdistnr': None, 'ssnamenr': None, 'drb': None}, {'candid': 1607348181615015005, 'jd': 2459361.8481829, 'ra': 239.1740566, 'dec': 68.3786551, 'fid': 2, 'nid': 1607, 'magpsf': 18.242300033569336, 'sigmapsf': 0.07702600210905075, 'isdiffpos': 't', 'ssdistnr': None, 'ssnamenr': None, 'drb': None}, {'candid': 1608285462915015008, 'jd': 2459362.785463, 'ra': 239.1742256, 'dec': 68.3787096, 'fid': 2, 'nid': 1608, 'magpsf': 17.861799240112305, 'sigmapsf': 0.07019200176000595, 'isdiffpos': 't', 'ssdistnr': None, 'ssnamenr': None, 'drb': None}, {'candid': 1608386872915015006, 'jd': 2459362.886875, 'ra': 239.1742134, 'dec': 68.3786318, 'fid': 1, 'nid': 1608, 'magpsf': 18.420900344848633, 'sigmapsf': 0.09126000106334686, 'isdiffpos': 't', 'ssdistnr': None, 'ssnamenr': None, 'drb': None}, {'candid': 1609283611615015007, 'jd': 2459363.7836111, 'ra': 239.1741071, 'dec': 68.3786827, 'fid': 1, 'nid': 1609, 'magpsf': 18.427099227905273, 'sigmapsf': 0.08091799914836884, 'isdiffpos': 't', 'ssdistnr': None, 'ssnamenr': None, 'drb': None}, {'candid': 1609345161615015005, 'jd': 2459363.845162, 'ra': 239.1741617, 'dec': 68.3786783, 'fid': 2, 'nid': 1609, 'magpsf': 18.13759994506836, 'sigmapsf': 0.07423099875450134, 'isdiffpos': 't', 'ssdistnr': None, 'ssnamenr': None, 'drb': None}, {'candid': 1610346332915015013, 'jd': 2459364.846331, 'ra': 239.1741026, 'dec': 68.3786872, 'fid': 2, 'nid': 1610, 'magpsf': 18.01259994506836, 'sigmapsf': 0.07919300347566605, 'isdiffpos': 't', 'ssdistnr': None, 'ssnamenr': None, 'drb': None}, {'candid': 1610362812915015010, 'jd': 2459364.8628125, 'ra': 239.1740935, 'dec': 68.3786648, 'fid': 1, 'nid': 1610, 'magpsf': 18.419599533081055, 'sigmapsf': 0.09738600254058838, 'isdiffpos': 't', 'ssdistnr': None, 'ssnamenr': None, 'drb': None}, {'candid': 1611322981615015019, 'jd': 2459365.8229861, 'ra': 239.1739966, 'dec': 68.3786212, 'fid': 1, 'nid': 1611, 'magpsf': 18.48889923095703, 'sigmapsf': 0.07838200032711029, 'isdiffpos': 't', 'ssdistnr': None, 'ssnamenr': None, 'drb': None}, {'candid': 1611408921615015001, 'jd': 2459365.9089236, 'ra': 239.1740379, 'dec': 68.3787654, 'fid': 2, 'nid': 1611, 'magpsf': 18.24920082092285, 'sigmapsf': 0.09947799891233444, 'isdiffpos': 't', 'ssdistnr': None, 'ssnamenr': None, 'drb': None}, {'candid': 1612298152915015016, 'jd': 2459366.7981597, 'ra': 239.1742, 'dec': 68.378675, 'fid': 1, 'nid': 1612, 'magpsf': 18.509700775146484, 'sigmapsf': 0.08187200129032135, 'isdiffpos': 't', 'ssdistnr': None, 'ssnamenr': None, 'drb': None}, {'candid': 1612361942915015011, 'jd': 2459366.8619444, 'ra': 239.1741612, 'dec': 68.3786575, 'fid': 2, 'nid': 1612, 'magpsf': 18.023500442504883, 'sigmapsf': 0.07057700306177139, 'isdiffpos': 't', 'ssdistnr': None, 'ssnamenr': None, 'drb': None}, {'candid': 1613302541615015006, 'jd': 2459367.8025463, 'ra': 239.1739814, 'dec': 68.3786697, 'fid': 1, 'nid': 1613, 'magpsf': 18.295700073242188, 'sigmapsf': 0.08365499973297119, 'isdiffpos': 't', 'ssdistnr': None, 'ssnamenr': None, 'drb': None}, {'candid': 1614349322915015019, 'jd': 2459368.8493287, 'ra': 239.1742073, 'dec': 68.3786301, 'fid': 1, 'nid': 1614, 'magpsf': 18.498199462890625, 'sigmapsf': 0.08568599820137024, 'isdiffpos': 't', 'ssdistnr': None, 'ssnamenr': None, 'drb': None}, {'candid': 1614401812915015013, 'jd': 2459368.9018171, 'ra': 239.1741234, 'dec': 68.3786433, 'fid': 2, 'nid': 1614, 'magpsf': 18.020099639892578, 'sigmapsf': 0.061027999967336655, 'isdiffpos': 't', 'ssdistnr': None, 'ssnamenr': None, 'drb': None}, {'candid': 1615326081615015018, 'jd': 2459369.826088, 'ra': 239.1740558, 'dec': 68.378724, 'fid': 2, 'nid': 1615, 'magpsf': 18.18560028076172, 'sigmapsf': 0.06323499977588654, 'isdiffpos': 't', 'ssdistnr': None, 'ssnamenr': None, 'drb': None}, {'candid': 1615366181615015016, 'jd': 2459369.8661806, 'ra': 239.1740227, 'dec': 68.3786464, 'fid': 1, 'nid': 1615, 'magpsf': 18.466299057006836, 'sigmapsf': 0.07052599638700485, 'isdiffpos': 't', 'ssdistnr': None, 'ssnamenr': None, 'drb': None}, {'candid': 1616240102915015010, 'jd': 2459370.7401042, 'ra': 239.1741219, 'dec': 68.3786518, 'fid': 1, 'nid': 1616, 'magpsf': 18.315399169921875, 'sigmapsf': 0.066430002450943, 'isdiffpos': 't', 'ssdistnr': None, 'ssnamenr': None, 'drb': None}, {'candid': 1616345812915015007, 'jd': 2459370.8458102, 'ra': 239.1741704, 'dec': 68.3786995, 'fid': 2, 'nid': 1616, 'magpsf': 17.840499877929688, 'sigmapsf': 0.07454700022935867, 'isdiffpos': 't', 'ssdistnr': None, 'ssnamenr': None, 'drb': None}, {'candid': 1617346091615015012, 'jd': 2459371.8460995, 'ra': 239.1742594, 'dec': 68.3786633, 'fid': 2, 'nid': 1617, 'magpsf': 18.150699615478516, 'sigmapsf': 0.05834899842739105, 'isdiffpos': 't', 'ssdistnr': None, 'ssnamenr': None, 'drb': None}, {'candid': 1617384681615015017, 'jd': 2459371.8846875, 'ra': 239.174115, 'dec': 68.3786508, 'fid': 1, 'nid': 1617, 'magpsf': 18.413299560546875, 'sigmapsf': 0.08098500221967697, 'isdiffpos': 't', 'ssdistnr': None, 'ssnamenr': None, 'drb': None}, {'candid': 1620383912915015009, 'jd': 2459374.883912, 'ra': 239.174128, 'dec': 68.3786492, 'fid': 1, 'nid': 1620, 'magpsf': 18.2012996673584, 'sigmapsf': 0.0675949975848198, 'isdiffpos': 't', 'ssdistnr': None, 'ssnamenr': None, 'drb': None}, {'candid': 1620432772915015010, 'jd': 2459374.9327778, 'ra': 239.1740784, 'dec': 68.3786258, 'fid': 2, 'nid': 1620, 'magpsf': 17.680299758911133, 'sigmapsf': 0.0792509987950325, 'isdiffpos': 't', 'ssdistnr': None, 'ssnamenr': None, 'drb': None}, {'candid': 1622304011615015020, 'jd': 2459376.8040162, 'ra': 239.1740559, 'dec': 68.3786613, 'fid': 2, 'nid': 1622, 'magpsf': 18.042200088500977, 'sigmapsf': 0.06316299736499786, 'isdiffpos': 't', 'ssdistnr': None, 'ssnamenr': None, 'drb': None}, {'candid': 1622305902915015016, 'jd': 2459376.8059028, 'ra': 239.1741585, 'dec': 68.3786747, 'fid': 2, 'nid': 1622, 'magpsf': 17.762500762939453, 'sigmapsf': 0.06900899857282639, 'isdiffpos': 't', 'ssdistnr': None, 'ssnamenr': None, 'drb': None}, {'candid': 1622344882915015017, 'jd': 2459376.8448843, 'ra': 239.1741368, 'dec': 68.3786501, 'fid': 1, 'nid': 1622, 'magpsf': 18.13409996032715, 'sigmapsf': 0.058038998395204544, 'isdiffpos': 't', 'ssdistnr': None, 'ssnamenr': None, 'drb': None}, {'candid': 1622345851615015009, 'jd': 2459376.8458565, 'ra': 239.1740417, 'dec': 68.3786601, 'fid': 1, 'nid': 1622, 'magpsf': 18.200199127197266, 'sigmapsf': 0.06924500316381454, 'isdiffpos': 't', 'ssdistnr': None, 'ssnamenr': None, 'drb': None}, {'candid': 1624203091615015014, 'jd': 2459378.7030903, 'ra': 239.1740216, 'dec': 68.3786505, 'fid': 1, 'nid': 1624, 'magpsf': 18.099599838256836, 'sigmapsf': 0.0574520006775856, 'isdiffpos': 't', 'ssdistnr': None, 'ssnamenr': None, 'drb': None}, {'candid': 1624300421615015011, 'jd': 2459378.8004282, 'ra': 239.1741051, 'dec': 68.3787175, 'fid': 2, 'nid': 1624, 'magpsf': 17.912900924682617, 'sigmapsf': 0.05402100086212158, 'isdiffpos': 't', 'ssdistnr': None, 'ssnamenr': None, 'drb': None}, {'candid': 1624301872915015010, 'jd': 2459378.801875, 'ra': 239.17415, 'dec': 68.3786743, 'fid': 2, 'nid': 1624, 'magpsf': 17.776199340820312, 'sigmapsf': 0.05760800093412399, 'isdiffpos': 't', 'ssdistnr': None, 'ssnamenr': None, 'drb': None}, {'candid': 1624345572915015018, 'jd': 2459378.8455787, 'ra': 239.1740956, 'dec': 68.3786693, 'fid': 1, 'nid': 1624, 'magpsf': 18.161100387573242, 'sigmapsf': 0.0674550011754036, 'isdiffpos': 't', 'ssdistnr': None, 'ssnamenr': None, 'drb': None}, {'candid': 1626279272915015004, 'jd': 2459380.7792708, 'ra': 239.174265, 'dec': 68.378639, 'fid': 1, 'nid': 1626, 'magpsf': 18.22480010986328, 'sigmapsf': 0.08300100266933441, 'isdiffpos': 't', 'ssdistnr': None, 'ssnamenr': None, 'drb': None}, {'candid': 1626280261615015011, 'jd': 2459380.7802662, 'ra': 239.1740061, 'dec': 68.3786489, 'fid': 1, 'nid': 1626, 'magpsf': 18.105100631713867, 'sigmapsf': 0.10410299897193909, 'isdiffpos': 't', 'ssdistnr': None, 'ssnamenr': None, 'drb': None}, {'candid': 1626346152915015006, 'jd': 2459380.8461574, 'ra': 239.1741072, 'dec': 68.3786547, 'fid': 2, 'nid': 1626, 'magpsf': 17.781099319458008, 'sigmapsf': 0.06116199865937233, 'isdiffpos': 't', 'ssdistnr': None, 'ssnamenr': None, 'drb': None}, {'candid': 1626363861615015007, 'jd': 2459380.8638657, 'ra': 239.1741772, 'dec': 68.3786918, 'fid': 2, 'nid': 1626, 'magpsf': 17.940500259399414, 'sigmapsf': 0.08257099986076355, 'isdiffpos': 't', 'ssdistnr': None, 'ssnamenr': None, 'drb': None}, {'candid': 1628325452915015007, 'jd': 2459382.8254514, 'ra': 239.1741139, 'dec': 68.3786619, 'fid': 2, 'nid': 1628, 'magpsf': 17.746599197387695, 'sigmapsf': 0.06952500343322754, 'isdiffpos': 't', 'ssdistnr': None, 'ssnamenr': None, 'drb': None}, {'candid': 1628390621615015007, 'jd': 2459382.890625, 'ra': 239.1740818, 'dec': 68.3786496, 'fid': 1, 'nid': 1628, 'magpsf': 18.25670051574707, 'sigmapsf': 0.1264999955892563, 'isdiffpos': 't', 'ssdistnr': None, 'ssnamenr': None, 'drb': None}, {'candid': 1628401572915015007, 'jd': 2459382.9015741, 'ra': 239.1740647, 'dec': 68.378666, 'fid': 1, 'nid': 1628, 'magpsf': 18.187299728393555, 'sigmapsf': 0.07486599683761597, 'isdiffpos': 't', 'ssdistnr': None, 'ssnamenr': None, 'drb': None}, {'candid': 1630221431615015007, 'jd': 2459384.7214352, 'ra': 239.1740059, 'dec': 68.3786286, 'fid': 1, 'nid': 1630, 'magpsf': 18.028600692749023, 'sigmapsf': 0.07508199661970139, 'isdiffpos': 't', 'ssdistnr': None, 'ssnamenr': None, 'drb': None}, {'candid': 1630236802915015108, 'jd': 2459384.7368056, 'ra': 239.1742875, 'dec': 68.3786851, 'fid': 1, 'nid': 1630, 'magpsf': 18.064599990844727, 'sigmapsf': 0.05986800044775009, 'isdiffpos': 't', 'ssdistnr': None, 'ssnamenr': None, 'drb': None}, {'candid': 1630330911615015007, 'jd': 2459384.8309144, 'ra': 239.1741191, 'dec': 68.3786998, 'fid': 2, 'nid': 1630, 'magpsf': 17.971399307250977, 'sigmapsf': 0.05291999876499176, 'isdiffpos': 't', 'ssdistnr': None, 'ssnamenr': None, 'drb': None}, {'candid': 1630333802915015007, 'jd': 2459384.8338079, 'ra': 239.174137, 'dec': 68.3786275, 'fid': 2, 'nid': 1630, 'magpsf': 17.659500122070312, 'sigmapsf': 0.06694699823856354, 'isdiffpos': 't', 'ssdistnr': None, 'ssnamenr': None, 'drb': None}, {'candid': 1632218902915015004, 'jd': 2459386.7189005, 'ra': 239.1742392, 'dec': 68.3786484, 'fid': 2, 'nid': 1632, 'magpsf': 17.60700035095215, 'sigmapsf': 0.0628800019621849, 'isdiffpos': 't', 'ssdistnr': None, 'ssnamenr': None, 'drb': None}, {'candid': 1632220321615015002, 'jd': 2459386.7203241, 'ra': 239.1740383, 'dec': 68.3786398, 'fid': 2, 'nid': 1632, 'magpsf': 17.897600173950195, 'sigmapsf': 0.0561630018055439, 'isdiffpos': 't', 'ssdistnr': None, 'ssnamenr': None, 'drb': None}, {'candid': 1632319322915015008, 'jd': 2459386.8193287, 'ra': 239.1741555, 'dec': 68.3786585, 'fid': 1, 'nid': 1632, 'magpsf': 18.06559944152832, 'sigmapsf': 0.06941600143909454, 'isdiffpos': 't', 'ssdistnr': None, 'ssnamenr': None, 'drb': None}, {'candid': 1632344941615015004, 'jd': 2459386.8449421, 'ra': 239.1740603, 'dec': 68.3786612, 'fid': 1, 'nid': 1632, 'magpsf': 18.040300369262695, 'sigmapsf': 0.06718499958515167, 'isdiffpos': 't', 'ssdistnr': None, 'ssnamenr': None, 'drb': None}, {'candid': 1636238391615015003, 'jd': 2459390.7383912, 'ra': 239.1741183, 'dec': 68.3786643, 'fid': 1, 'nid': 1636, 'magpsf': 18.06760025024414, 'sigmapsf': 0.07527399808168411, 'isdiffpos': 't', 'ssdistnr': None, 'ssnamenr': None, 'drb': None}, {'candid': 1636266292915015007, 'jd': 2459390.7662963, 'ra': 239.1741603, 'dec': 68.3786518, 'fid': 1, 'nid': 1636, 'magpsf': 18.019899368286133, 'sigmapsf': 0.07502900063991547, 'isdiffpos': 't', 'ssdistnr': None, 'ssnamenr': None, 'drb': None}, {'candid': 1636300082915015006, 'jd': 2459390.800081, 'ra': 239.1741683, 'dec': 68.3786773, 'fid': 2, 'nid': 1636, 'magpsf': 17.60930061340332, 'sigmapsf': 0.049171000719070435, 'isdiffpos': 't', 'ssdistnr': None, 'ssnamenr': None, 'drb': None}, {'candid': 1636320261615015003, 'jd': 2459390.8202662, 'ra': 239.1740394, 'dec': 68.3786616, 'fid': 2, 'nid': 1636, 'magpsf': 17.801799774169922, 'sigmapsf': 0.0701259970664978, 'isdiffpos': 't', 'ssdistnr': None, 'ssnamenr': None, 'drb': None}, {'candid': 1638245611615015013, 'jd': 2459392.7456134, 'ra': 239.1740336, 'dec': 68.3786587, 'fid': 1, 'nid': 1638, 'magpsf': 18.028200149536133, 'sigmapsf': 0.06491699814796448, 'isdiffpos': 't', 'ssdistnr': None, 'ssnamenr': None, 'drb': None}, {'candid': 1638262432915015011, 'jd': 2459392.7624306, 'ra': 239.1741361, 'dec': 68.3786496, 'fid': 1, 'nid': 1638, 'magpsf': 17.98940086364746, 'sigmapsf': 0.07658199965953827, 'isdiffpos': 't', 'ssdistnr': None, 'ssnamenr': None, 'drb': None}, {'candid': 1638345531615015007, 'jd': 2459392.8455324, 'ra': 239.1740629, 'dec': 68.3786637, 'fid': 2, 'nid': 1638, 'magpsf': 17.748600006103516, 'sigmapsf': 0.04568900167942047, 'isdiffpos': 't', 'ssdistnr': None, 'ssnamenr': None, 'drb': None}, {'candid': 1638365372915015005, 'jd': 2459392.8653704, 'ra': 239.1741981, 'dec': 68.3786628, 'fid': 2, 'nid': 1638, 'magpsf': 17.580299377441406, 'sigmapsf': 0.06637699902057648, 'isdiffpos': 't', 'ssdistnr': None, 'ssnamenr': None, 'drb': None}, {'candid': 1640221781615015022, 'jd': 2459394.7217824, 'ra': 239.1740656, 'dec': 68.378652, 'fid': 1, 'nid': 1640, 'magpsf': 18.00119972229004, 'sigmapsf': 0.05554300174117088, 'isdiffpos': 't', 'ssdistnr': None, 'ssnamenr': None, 'drb': None}, {'candid': 1640323441615015003, 'jd': 2459394.8234491, 'ra': 239.1740717, 'dec': 68.3786509, 'fid': 2, 'nid': 1640, 'magpsf': 17.590599060058594, 'sigmapsf': 0.058111000806093216, 'isdiffpos': 't', 'ssdistnr': None, 'ssnamenr': None, 'drb': None}, {'candid': 1640342392915015007, 'jd': 2459394.8423958, 'ra': 239.1742032, 'dec': 68.3786396, 'fid': 1, 'nid': 1640, 'magpsf': 17.971799850463867, 'sigmapsf': 0.0746299996972084, 'isdiffpos': 't', 'ssdistnr': None, 'ssnamenr': None, 'drb': None}, {'candid': 1642282822915015033, 'jd': 2459396.7828241, 'ra': 239.1741563, 'dec': 68.3786534, 'fid': 1, 'nid': 1642, 'magpsf': 17.98419952392578, 'sigmapsf': 0.0676259994506836, 'isdiffpos': 't', 'ssdistnr': None, 'ssnamenr': None, 'drb': None}, {'candid': 1642284281615015012, 'jd': 2459396.7842824, 'ra': 239.1738995, 'dec': 68.3786835, 'fid': 1, 'nid': 1642, 'magpsf': 18.01110076904297, 'sigmapsf': 0.06859199702739716, 'isdiffpos': 't', 'ssdistnr': None, 'ssnamenr': None, 'drb': None}, {'candid': 1642349341615015005, 'jd': 2459396.8493403, 'ra': 239.1738755, 'dec': 68.3785955, 'fid': 2, 'nid': 1642, 'magpsf': 17.83650016784668, 'sigmapsf': 0.06924600154161453, 'isdiffpos': 't', 'ssdistnr': None, 'ssnamenr': None, 'drb': None}, {'candid': 1642351302915015008, 'jd': 2459396.8513079, 'ra': 239.1740806, 'dec': 68.3786937, 'fid': 2, 'nid': 1642, 'magpsf': 17.529399871826172, 'sigmapsf': 0.048861999064683914, 'isdiffpos': 't', 'ssdistnr': None, 'ssnamenr': None, 'drb': None}, {'candid': 1645222621615015010, 'jd': 2459399.7226273, 'ra': 239.1740477, 'dec': 68.3786448, 'fid': 2, 'nid': 1645, 'magpsf': 17.783899307250977, 'sigmapsf': 0.053690001368522644, 'isdiffpos': 't', 'ssdistnr': None, 'ssnamenr': None, 'drb': None}, {'candid': 1645285471615015009, 'jd': 2459399.7854745, 'ra': 239.1740354, 'dec': 68.3787005, 'fid': 1, 'nid': 1645, 'magpsf': 18.012699127197266, 'sigmapsf': 0.0677189975976944, 'isdiffpos': 't', 'ssdistnr': None, 'ssnamenr': None, 'drb': None}, {'candid': 1645286462915015018, 'jd': 2459399.7864699, 'ra': 239.1741991, 'dec': 68.3786436, 'fid': 1, 'nid': 1645, 'magpsf': 18.02899932861328, 'sigmapsf': 0.06009899824857712, 'isdiffpos': 't', 'ssdistnr': None, 'ssnamenr': None, 'drb': None}, {'candid': 1645347292915015013, 'jd': 2459399.8472917, 'ra': 239.1740539, 'dec': 68.3786443, 'fid': 2, 'nid': 1645, 'magpsf': 17.535999298095703, 'sigmapsf': 0.06141500174999237, 'isdiffpos': 't', 'ssdistnr': None, 'ssnamenr': None, 'drb': None}, {'candid': 1647244751615015013, 'jd': 2459401.7447569, 'ra': 239.1740787, 'dec': 68.3786805, 'fid': 1, 'nid': 1647, 'magpsf': 18.03689956665039, 'sigmapsf': 0.0771699994802475, 'isdiffpos': 't', 'ssdistnr': None, 'ssnamenr': None, 'drb': None}, {'candid': 1647256802915015010, 'jd': 2459401.7568056, 'ra': 239.174056, 'dec': 68.3786988, 'fid': 1, 'nid': 1647, 'magpsf': 18.04960060119629, 'sigmapsf': 0.0641700029373169, 'isdiffpos': 't', 'ssdistnr': None, 'ssnamenr': None, 'drb': None}, {'candid': 1647302001615015016, 'jd': 2459401.8020023, 'ra': 239.1741911, 'dec': 68.378662, 'fid': 2, 'nid': 1647, 'magpsf': 17.761499404907227, 'sigmapsf': 0.04615499824285507, 'isdiffpos': 't', 'ssdistnr': None, 'ssnamenr': None, 'drb': None}, {'candid': 1647348612915015007, 'jd': 2459401.8486111, 'ra': 239.1741843, 'dec': 68.3786276, 'fid': 2, 'nid': 1647, 'magpsf': 17.576900482177734, 'sigmapsf': 0.06009700149297714, 'isdiffpos': 't', 'ssdistnr': None, 'ssnamenr': None, 'drb': None}, {'candid': 1649283292915015025, 'jd': 2459403.7832986, 'ra': 239.1740914, 'dec': 68.3786514, 'fid': 1, 'nid': 1649, 'magpsf': 18.153600692749023, 'sigmapsf': 0.07071100175380707, 'isdiffpos': 't', 'ssdistnr': None, 'ssnamenr': None, 'drb': None}, {'candid': 1649302371615015007, 'jd': 2459403.8023727, 'ra': 239.1741875, 'dec': 68.3785681, 'fid': 2, 'nid': 1649, 'magpsf': 17.91320037841797, 'sigmapsf': 0.08302000164985657, 'isdiffpos': 't', 'ssdistnr': None, 'ssnamenr': None, 'drb': None}, {'candid': 1649339962915015007, 'jd': 2459403.8399653, 'ra': 239.1741462, 'dec': 68.3786164, 'fid': 2, 'nid': 1649, 'magpsf': 17.627199172973633, 'sigmapsf': 0.05986199900507927, 'isdiffpos': 't', 'ssdistnr': None, 'ssnamenr': None, 'drb': None}, {'candid': 1649372081615015012, 'jd': 2459403.8720833, 'ra': 239.1741422, 'dec': 68.3786467, 'fid': 1, 'nid': 1649, 'magpsf': 18.142099380493164, 'sigmapsf': 0.06781499832868576, 'isdiffpos': 't', 'ssdistnr': None, 'ssnamenr': None, 'drb': None}, {'candid': 1651303101615015013, 'jd': 2459405.8031019, 'ra': 239.1741179, 'dec': 68.3786777, 'fid': 1, 'nid': 1651, 'magpsf': 18.248600006103516, 'sigmapsf': 0.0682779997587204, 'isdiffpos': 't', 'ssdistnr': None, 'ssnamenr': None, 'drb': None}, {'candid': 1651304522915015017, 'jd': 2459405.8045255, 'ra': 239.1741128, 'dec': 68.3786539, 'fid': 1, 'nid': 1651, 'magpsf': 18.219900131225586, 'sigmapsf': 0.08226200193166733, 'isdiffpos': 't', 'ssdistnr': None, 'ssnamenr': None, 'drb': None}, {'candid': 1653200561615015022, 'jd': 2459407.7005671, 'ra': 239.1741421, 'dec': 68.3786921, 'fid': 2, 'nid': 1653, 'magpsf': 17.962499618530273, 'sigmapsf': 0.054117001593112946, 'isdiffpos': 't', 'ssdistnr': None, 'ssnamenr': None, 'drb': None}, {'candid': 1653265451615015016, 'jd': 2459407.7654514, 'ra': 239.1741281, 'dec': 68.3786481, 'fid': 1, 'nid': 1653, 'magpsf': 18.279399871826172, 'sigmapsf': 0.07923100143671036, 'isdiffpos': 't', 'ssdistnr': None, 'ssnamenr': None, 'drb': None}, {'candid': 1653268332915015018, 'jd': 2459407.7683333, 'ra': 239.1741222, 'dec': 68.3786633, 'fid': 1, 'nid': 1653, 'magpsf': 18.238300323486328, 'sigmapsf': 0.0823889970779419, 'isdiffpos': 't', 'ssdistnr': None, 'ssnamenr': None, 'drb': None}, {'candid': 1655220481615015015, 'jd': 2459409.7204861, 'ra': 239.1740012, 'dec': 68.3786925, 'fid': 1, 'nid': 1655, 'magpsf': 18.38610076904297, 'sigmapsf': 0.0737060010433197, 'isdiffpos': 't', 'ssdistnr': None, 'ssnamenr': None, 'drb': None}, {'candid': 1655244032915015008, 'jd': 2459409.7440394, 'ra': 239.1741493, 'dec': 68.3786685, 'fid': 1, 'nid': 1655, 'magpsf': 18.306699752807617, 'sigmapsf': 0.07968000322580338, 'isdiffpos': 't', 'ssdistnr': None, 'ssnamenr': None, 'drb': None}, {'candid': 1655288431615015004, 'jd': 2459409.7884375, 'ra': 239.1740748, 'dec': 68.3786699, 'fid': 2, 'nid': 1655, 'magpsf': 17.990100860595703, 'sigmapsf': 0.07044000178575516, 'isdiffpos': 't', 'ssdistnr': None, 'ssnamenr': None, 'drb': None}, {'candid': 1655289402915015011, 'jd': 2459409.7894097, 'ra': 239.1742804, 'dec': 68.3786717, 'fid': 2, 'nid': 1655, 'magpsf': 17.796100616455078, 'sigmapsf': 0.06431099772453308, 'isdiffpos': 't', 'ssdistnr': None, 'ssnamenr': None, 'drb': None}, {'candid': 1657199461615015018, 'jd': 2459411.6994676, 'ra': 239.1739658, 'dec': 68.3786687, 'fid': 1, 'nid': 1657, 'magpsf': 18.259599685668945, 'sigmapsf': 0.06926699727773666, 'isdiffpos': 't', 'ssdistnr': None, 'ssnamenr': None, 'drb': None}, {'candid': 1657202332915015013, 'jd': 2459411.702338, 'ra': 239.1741644, 'dec': 68.3786202, 'fid': 1, 'nid': 1657, 'magpsf': 18.218799591064453, 'sigmapsf': 0.09794899821281433, 'isdiffpos': 't', 'ssdistnr': None, 'ssnamenr': None, 'drb': None}, {'candid': 1657240771615015002, 'jd': 2459411.7407755, 'ra': 239.1741052, 'dec': 68.3787028, 'fid': 2, 'nid': 1657, 'magpsf': 17.948699951171875, 'sigmapsf': 0.07636699825525284, 'isdiffpos': 't', 'ssdistnr': None, 'ssnamenr': None, 'drb': None}, {'candid': 1657243192915015007, 'jd': 2459411.7431944, 'ra': 239.1742289, 'dec': 68.3786865, 'fid': 2, 'nid': 1657, 'magpsf': 17.709999084472656, 'sigmapsf': 0.07489799708127975, 'isdiffpos': 't', 'ssdistnr': None, 'ssnamenr': None, 'drb': None}, {'candid': 1660256741615015009, 'jd': 2459414.7567477, 'ra': 239.1740541, 'dec': 68.3786695, 'fid': 1, 'nid': 1660, 'magpsf': 18.333499908447266, 'sigmapsf': 0.10071200132369995, 'isdiffpos': 't', 'ssdistnr': None, 'ssnamenr': None, 'drb': None}, {'candid': 1660288691615015005, 'jd': 2459414.7886921, 'ra': 239.17399, 'dec': 68.3786477, 'fid': 2, 'nid': 1660, 'magpsf': 17.93939971923828, 'sigmapsf': 0.07482799887657166, 'isdiffpos': 't', 'ssdistnr': None, 'ssnamenr': None, 'drb': None}, {'candid': 1660290152915015011, 'jd': 2459414.7901505, 'ra': 239.1742734, 'dec': 68.378667, 'fid': 2, 'nid': 1660, 'magpsf': 17.818099975585938, 'sigmapsf': 0.06682799756526947, 'isdiffpos': 't', 'ssdistnr': None, 'ssnamenr': None, 'drb': None}, {'candid': 1660390022915015006, 'jd': 2459414.8900231, 'ra': 239.1740709, 'dec': 68.3786381, 'fid': 1, 'nid': 1660, 'magpsf': 18.291099548339844, 'sigmapsf': 0.079134002327919, 'isdiffpos': 't', 'ssdistnr': None, 'ssnamenr': None, 'drb': None}, {'candid': 1665297072915015003, 'jd': 2459419.7970718, 'ra': 239.1740764, 'dec': 68.3786844, 'fid': 2, 'nid': 1665, 'magpsf': 17.71649932861328, 'sigmapsf': 0.0783429965376854, 'isdiffpos': 't', 'ssdistnr': None, 'ssnamenr': None, 'drb': None}, {'candid': 1669350741615015019, 'jd': 2459423.8507407, 'ra': 239.173692, 'dec': 68.3786822, 'fid': 1, 'nid': 1669, 'magpsf': 18.653499603271484, 'sigmapsf': 0.18575699627399445, 'isdiffpos': 't', 'ssdistnr': None, 'ssnamenr': None, 'drb': None}, {'candid': 1671242431615015025, 'jd': 2459425.7424306, 'ra': 239.1740789, 'dec': 68.3786678, 'fid': 1, 'nid': 1671, 'magpsf': 18.678499221801758, 'sigmapsf': 0.092010997235775, 'isdiffpos': 't', 'ssdistnr': None, 'ssnamenr': None, 'drb': None}, {'candid': 1671367952915015006, 'jd': 2459425.8679514, 'ra': 239.1740695, 'dec': 68.3785979, 'fid': 1, 'nid': 1671, 'magpsf': 18.704099655151367, 'sigmapsf': 0.10752899944782257, 'isdiffpos': 't', 'ssdistnr': None, 'ssnamenr': None, 'drb': None}, {'candid': 1673282061615015005, 'jd': 2459427.7820602, 'ra': 239.1736368, 'dec': 68.3785286, 'fid': 1, 'nid': 1673, 'magpsf': 18.67460060119629, 'sigmapsf': 0.08951599895954132, 'isdiffpos': 't', 'ssdistnr': None, 'ssnamenr': None, 'drb': None}, {'candid': 1674203722915015009, 'jd': 2459428.7037269, 'ra': 239.1742132, 'dec': 68.3786377, 'fid': 2, 'nid': 1674, 'magpsf': 17.997100830078125, 'sigmapsf': 0.08023499697446823, 'isdiffpos': 't', 'ssdistnr': None, 'ssnamenr': None, 'drb': None}, {'candid': 1674243562915015014, 'jd': 2459428.7435648, 'ra': 239.1741845, 'dec': 68.3786674, 'fid': 1, 'nid': 1674, 'magpsf': 18.739900588989258, 'sigmapsf': 0.08681099861860275, 'isdiffpos': 't', 'ssdistnr': None, 'ssnamenr': None, 'drb': None}, {'candid': 1675304281615015005, 'jd': 2459429.8042824, 'ra': 239.1741179, 'dec': 68.378663, 'fid': 1, 'nid': 1675, 'magpsf': 18.898300170898438, 'sigmapsf': 0.11347100138664246, 'isdiffpos': 't', 'ssdistnr': None, 'ssnamenr': None, 'drb': None}, {'candid': 1676241972915015013, 'jd': 2459430.7419792, 'ra': 239.174237, 'dec': 68.3786997, 'fid': 2, 'nid': 1676, 'magpsf': 18.018999099731445, 'sigmapsf': 0.0884919986128807, 'isdiffpos': 't', 'ssdistnr': None, 'ssnamenr': None, 'drb': None}, {'candid': 1676280832915015018, 'jd': 2459430.7808333, 'ra': 239.1742532, 'dec': 68.3786523, 'fid': 1, 'nid': 1676, 'magpsf': 18.94540023803711, 'sigmapsf': 0.10922600328922272, 'isdiffpos': 't', 'ssdistnr': None, 'ssnamenr': None, 'drb': None}, {'candid': 1680222261615015014, 'jd': 2459434.7222685, 'ra': 239.1741921, 'dec': 68.3786179, 'fid': 1, 'nid': 1680, 'magpsf': 18.811800003051758, 'sigmapsf': 0.0795380026102066, 'isdiffpos': 't', 'ssdistnr': None, 'ssnamenr': None, 'drb': None}, {'candid': 1681196082915015022, 'jd': 2459435.696088, 'ra': 239.1741129, 'dec': 68.378676, 'fid': 1, 'nid': 1681, 'magpsf': 18.630800247192383, 'sigmapsf': 0.0968180000782013, 'isdiffpos': 't', 'ssdistnr': None, 'ssnamenr': None, 'drb': None}, {'candid': 1681244592915015004, 'jd': 2459435.7445949, 'ra': 239.1742166, 'dec': 68.3786233, 'fid': 2, 'nid': 1681, 'magpsf': 17.987199783325195, 'sigmapsf': 0.08939400315284729, 'isdiffpos': 't', 'ssdistnr': None, 'ssnamenr': None, 'drb': None}, {'candid': 1682260461615015010, 'jd': 2459436.760463, 'ra': 239.1742191, 'dec': 68.3785856, 'fid': 1, 'nid': 1682, 'magpsf': 18.66550064086914, 'sigmapsf': 0.09223199635744095, 'isdiffpos': 't', 'ssdistnr': None, 'ssnamenr': None, 'drb': None}, {'candid': 1684180162915015007, 'jd': 2459438.680162, 'ra': 239.1741519, 'dec': 68.3786564, 'fid': 2, 'nid': 1684, 'magpsf': 17.992399215698242, 'sigmapsf': 0.06390299648046494, 'isdiffpos': 't', 'ssdistnr': None, 'ssnamenr': None, 'drb': None}, {'candid': 1684228982915015007, 'jd': 2459438.7289815, 'ra': 239.1741915, 'dec': 68.3786692, 'fid': 1, 'nid': 1684, 'magpsf': 18.512699127197266, 'sigmapsf': 0.08561699837446213, 'isdiffpos': 't', 'ssdistnr': None, 'ssnamenr': None, 'drb': None}, {'candid': 1685204281615015010, 'jd': 2459439.7042824, 'ra': 239.1741072, 'dec': 68.3786918, 'fid': 2, 'nid': 1685, 'magpsf': 18.32900047302246, 'sigmapsf': 0.07693500071763992, 'isdiffpos': 't', 'ssdistnr': None, 'ssnamenr': None, 'drb': None}, {'candid': 1685263701615015009, 'jd': 2459439.7637037, 'ra': 239.1737852, 'dec': 68.3786344, 'fid': 1, 'nid': 1685, 'magpsf': 18.850799560546875, 'sigmapsf': 0.11914300173521042, 'isdiffpos': 't', 'ssdistnr': None, 'ssnamenr': None, 'drb': None}, {'candid': 1686223792915015004, 'jd': 2459440.7237963, 'ra': 239.1742159, 'dec': 68.3786734, 'fid': 2, 'nid': 1686, 'magpsf': 18.027999877929688, 'sigmapsf': 0.07821500301361084, 'isdiffpos': 't', 'ssdistnr': None, 'ssnamenr': None, 'drb': None}, {'candid': 1686223792915025004, 'jd': 2459440.7237963, 'ra': 239.1742159, 'dec': 68.3786734, 'fid': 2, 'nid': 1686, 'magpsf': 18.027999877929688, 'sigmapsf': 0.07821500301361084, 'isdiffpos': 't', 'ssdistnr': None, 'ssnamenr': None, 'drb': None}, {'candid': 1686268122915015014, 'jd': 2459440.768125, 'ra': 239.1742987, 'dec': 68.3786556, 'fid': 1, 'nid': 1686, 'magpsf': 18.95330047607422, 'sigmapsf': 0.1298840045928955, 'isdiffpos': 't', 'ssdistnr': None, 'ssnamenr': None, 'drb': None}, {'candid': 1686268122915025014, 'jd': 2459440.768125, 'ra': 239.1742987, 'dec': 68.3786556, 'fid': 1, 'nid': 1686, 'magpsf': 18.95330047607422, 'sigmapsf': 0.1298840045928955, 'isdiffpos': 't', 'ssdistnr': None, 'ssnamenr': None, 'drb': None}, {'candid': 1687180981615015014, 'jd': 2459441.6809838, 'ra': 239.1740087, 'dec': 68.3786519, 'fid': 2, 'nid': 1687, 'magpsf': 18.298099517822266, 'sigmapsf': 0.10580399632453918, 'isdiffpos': 't', 'ssdistnr': None, 'ssnamenr': None, 'drb': None}, {'candid': 1687239611615015008, 'jd': 2459441.7396181, 'ra': 239.1737629, 'dec': 68.3785872, 'fid': 1, 'nid': 1687, 'magpsf': 18.800199508666992, 'sigmapsf': 0.12814000248908997, 'isdiffpos': 't', 'ssdistnr': None, 'ssnamenr': None, 'drb': None}, {'candid': 1689198272915015003, 'jd': 2459443.6982755, 'ra': 239.1741483, 'dec': 68.3787068, 'fid': 1, 'nid': 1689, 'magpsf': 18.826200485229492, 'sigmapsf': 0.17153500020503998, 'isdiffpos': 't', 'ssdistnr': None, 'ssnamenr': None, 'drb': None}, {'candid': 1689199731615015010, 'jd': 2459443.6997338, 'ra': 239.1740949, 'dec': 68.3786492, 'fid': 1, 'nid': 1689, 'magpsf': 18.951000213623047, 'sigmapsf': 0.17412400245666504, 'isdiffpos': 't', 'ssdistnr': None, 'ssnamenr': None, 'drb': None}, {'candid': 1689283192915015007, 'jd': 2459443.7831944, 'ra': 239.1740762, 'dec': 68.3786672, 'fid': 2, 'nid': 1689, 'magpsf': 18.227100372314453, 'sigmapsf': 0.13167999684810638, 'isdiffpos': 't', 'ssdistnr': None, 'ssnamenr': None, 'drb': None}, {'candid': 1695181711615015005, 'jd': 2459449.681713, 'ra': 239.1739713, 'dec': 68.3786819, 'fid': 2, 'nid': 1695, 'magpsf': 18.439199447631836, 'sigmapsf': 0.10214799642562866, 'isdiffpos': 't', 'ssdistnr': None, 'ssnamenr': None, 'drb': None}, {'candid': 1695217831615015003, 'jd': 2459449.7178356, 'ra': 239.1740293, 'dec': 68.3786054, 'fid': 1, 'nid': 1695, 'magpsf': 18.76300048828125, 'sigmapsf': 0.13685500621795654, 'isdiffpos': 't', 'ssdistnr': None, 'ssnamenr': None, 'drb': None}, {'candid': 1695219782915015008, 'jd': 2459449.7197801, 'ra': 239.1741486, 'dec': 68.3785955, 'fid': 1, 'nid': 1695, 'magpsf': 18.74020004272461, 'sigmapsf': 0.14188799262046814, 'isdiffpos': 't', 'ssdistnr': None, 'ssnamenr': None, 'drb': None}, {'candid': 1695331752915015003, 'jd': 2459449.8317593, 'ra': 239.1742691, 'dec': 68.3786565, 'fid': 2, 'nid': 1695, 'magpsf': 18.263099670410156, 'sigmapsf': 0.11310400068759918, 'isdiffpos': 't', 'ssdistnr': None, 'ssnamenr': None, 'drb': None}, {'candid': 1697181782915015008, 'jd': 2459451.6817824, 'ra': 239.1741115, 'dec': 68.3786633, 'fid': 2, 'nid': 1697, 'magpsf': 17.938100814819336, 'sigmapsf': 0.0760829970240593, 'isdiffpos': 't', 'ssdistnr': None, 'ssnamenr': None, 'drb': None}, {'candid': 1697223052915015005, 'jd': 2459451.7230556, 'ra': 239.1739746, 'dec': 68.3786346, 'fid': 1, 'nid': 1697, 'magpsf': 18.576000213623047, 'sigmapsf': 0.11727999895811081, 'isdiffpos': 't', 'ssdistnr': None, 'ssnamenr': None, 'drb': None}, {'candid': 1697243391615015003, 'jd': 2459451.7433912, 'ra': 239.1739944, 'dec': 68.3787164, 'fid': 1, 'nid': 1697, 'magpsf': 18.728900909423828, 'sigmapsf': 0.14381299912929535, 'isdiffpos': 't', 'ssdistnr': None, 'ssnamenr': None, 'drb': None}, {'candid': 1699195251615015014, 'jd': 2459453.6952546, 'ra': 239.1741191, 'dec': 68.3786638, 'fid': 1, 'nid': 1699, 'magpsf': 18.65530014038086, 'sigmapsf': 0.08099199831485748, 'isdiffpos': 't', 'ssdistnr': None, 'ssnamenr': None, 'drb': None}, {'candid': 1699198172915015007, 'jd': 2459453.6981713, 'ra': 239.1741997, 'dec': 68.3786557, 'fid': 1, 'nid': 1699, 'magpsf': 18.760299682617188, 'sigmapsf': 0.11293499916791916, 'isdiffpos': 't', 'ssdistnr': None, 'ssnamenr': None, 'drb': None}, {'candid': 1699291312915015007, 'jd': 2459453.7913194, 'ra': 239.1739, 'dec': 68.3785687, 'fid': 2, 'nid': 1699, 'magpsf': 18.013399124145508, 'sigmapsf': 0.08660999685525894, 'isdiffpos': 't', 'ssdistnr': None, 'ssnamenr': None, 'drb': None}, {'candid': 1701181712915015006, 'jd': 2459455.681713, 'ra': 239.1740679, 'dec': 68.3787074, 'fid': 2, 'nid': 1701, 'magpsf': 18.004100799560547, 'sigmapsf': 0.07153400033712387, 'isdiffpos': 't', 'ssdistnr': None, 'ssnamenr': None, 'drb': None}, {'candid': 1701203092915015010, 'jd': 2459455.7030903, 'ra': 239.174148, 'dec': 68.3786216, 'fid': 1, 'nid': 1701, 'magpsf': 18.65959930419922, 'sigmapsf': 0.10203000158071518, 'isdiffpos': 't', 'ssdistnr': None, 'ssnamenr': None, 'drb': None}, {'candid': 1701219581615015016, 'jd': 2459455.7195833, 'ra': 239.174055, 'dec': 68.3786484, 'fid': 1, 'nid': 1701, 'magpsf': 18.66309928894043, 'sigmapsf': 0.08333999663591385, 'isdiffpos': 't', 'ssdistnr': None, 'ssnamenr': None, 'drb': None}, {'candid': 1704166671615015017, 'jd': 2459458.6666782, 'ra': 239.1740757, 'dec': 68.3786583, 'fid': 1, 'nid': 1704, 'magpsf': 18.6481990814209, 'sigmapsf': 0.08846700191497803, 'isdiffpos': 't', 'ssdistnr': None, 'ssnamenr': None, 'drb': None}, {'candid': 1704180622915015011, 'jd': 2459458.680625, 'ra': 239.1739829, 'dec': 68.3786448, 'fid': 1, 'nid': 1704, 'magpsf': 18.62579917907715, 'sigmapsf': 0.06441900134086609, 'isdiffpos': 't', 'ssdistnr': None, 'ssnamenr': None, 'drb': None}, {'candid': 1704241942915015009, 'jd': 2459458.7419444, 'ra': 239.1737284, 'dec': 68.3786336, 'fid': 2, 'nid': 1704, 'magpsf': 17.90730094909668, 'sigmapsf': 0.0586250014603138, 'isdiffpos': 't', 'ssdistnr': None, 'ssnamenr': None, 'drb': None}, {'candid': 1706177691615015009, 'jd': 2459460.6776968, 'ra': 239.1741015, 'dec': 68.3786408, 'fid': 1, 'nid': 1706, 'magpsf': 18.67639923095703, 'sigmapsf': 0.09031900018453598, 'isdiffpos': 't', 'ssdistnr': None, 'ssnamenr': None, 'drb': None}, {'candid': 1706223771615015009, 'jd': 2459460.7237731, 'ra': 239.1740815, 'dec': 68.3786577, 'fid': 2, 'nid': 1706, 'magpsf': 18.193500518798828, 'sigmapsf': 0.056804001331329346, 'isdiffpos': 't', 'ssdistnr': None, 'ssnamenr': None, 'drb': None}, {'candid': 1706241122915015009, 'jd': 2459460.7411227, 'ra': 239.1743089, 'dec': 68.3786342, 'fid': 2, 'nid': 1706, 'magpsf': 18.143699645996094, 'sigmapsf': 0.08350300043821335, 'isdiffpos': 't', 'ssdistnr': None, 'ssnamenr': None, 'drb': None}, {'candid': 1706280192915015005, 'jd': 2459460.7801968, 'ra': 239.1742527, 'dec': 68.3786685, 'fid': 1, 'nid': 1706, 'magpsf': 18.81049919128418, 'sigmapsf': 0.0972059965133667, 'isdiffpos': 't', 'ssdistnr': None, 'ssnamenr': None, 'drb': None}, {'candid': 1708180471615015017, 'jd': 2459462.6804745, 'ra': 239.1738325, 'dec': 68.378657, 'fid': 1, 'nid': 1708, 'magpsf': 18.71339988708496, 'sigmapsf': 0.07612299919128418, 'isdiffpos': 't', 'ssdistnr': None, 'ssnamenr': None, 'drb': None}, {'candid': 1708218122915015006, 'jd': 2459462.718125, 'ra': 239.1739595, 'dec': 68.3786687, 'fid': 2, 'nid': 1708, 'magpsf': 18.03260040283203, 'sigmapsf': 0.11839500069618225, 'isdiffpos': 't', 'ssdistnr': None, 'ssnamenr': None, 'drb': None}, {'candid': 1708236851615015004, 'jd': 2459462.7368519, 'ra': 239.1741913, 'dec': 68.3787743, 'fid': 2, 'nid': 1708, 'magpsf': 18.308700561523438, 'sigmapsf': 0.08690600097179413, 'isdiffpos': 't', 'ssdistnr': None, 'ssnamenr': None, 'drb': None}, {'candid': 1708281552915015009, 'jd': 2459462.7815509, 'ra': 239.1742181, 'dec': 68.3786728, 'fid': 1, 'nid': 1708, 'magpsf': 18.574399948120117, 'sigmapsf': 0.0973069965839386, 'isdiffpos': 't', 'ssdistnr': None, 'ssnamenr': None, 'drb': None}, {'candid': 1710221511615015009, 'jd': 2459464.7215162, 'ra': 239.1740007, 'dec': 68.3786931, 'fid': 2, 'nid': 1710, 'magpsf': 18.154699325561523, 'sigmapsf': 0.07655899971723557, 'isdiffpos': 't', 'ssdistnr': None, 'ssnamenr': None, 'drb': None}, {'candid': 1710221511615025009, 'jd': 2459464.7215162, 'ra': 239.1740007, 'dec': 68.3786931, 'fid': 2, 'nid': 1710, 'magpsf': 18.154699325561523, 'sigmapsf': 0.07655899971723557, 'isdiffpos': 't', 'ssdistnr': None, 'ssnamenr': None, 'drb': None}, {'candid': 1710286492915015009, 'jd': 2459464.7864931, 'ra': 239.1743727, 'dec': 68.3787026, 'fid': 2, 'nid': 1710, 'magpsf': 18.021799087524414, 'sigmapsf': 0.0738150030374527, 'isdiffpos': 't', 'ssdistnr': None, 'ssnamenr': None, 'drb': None}, {'candid': 1710286492915025009, 'jd': 2459464.7864931, 'ra': 239.1743727, 'dec': 68.3787026, 'fid': 2, 'nid': 1710, 'magpsf': 18.021799087524414, 'sigmapsf': 0.0738150030374527, 'isdiffpos': 't', 'ssdistnr': None, 'ssnamenr': None, 'drb': None}, {'candid': 1712176782915015016, 'jd': 2459466.6767824, 'ra': 239.1740811, 'dec': 68.3786834, 'fid': 2, 'nid': 1712, 'magpsf': 17.909400939941406, 'sigmapsf': 0.06925500184297562, 'isdiffpos': 't', 'ssdistnr': None, 'ssnamenr': None, 'drb': None}, {'candid': 1712223092915015015, 'jd': 2459466.7230903, 'ra': 239.174069, 'dec': 68.3786315, 'fid': 1, 'nid': 1712, 'magpsf': 18.596599578857422, 'sigmapsf': 0.10622800141572952, 'isdiffpos': 't', 'ssdistnr': None, 'ssnamenr': None, 'drb': None}, {'candid': 1714180702915015014, 'jd': 2459468.680706, 'ra': 239.1740671, 'dec': 68.3786298, 'fid': 1, 'nid': 1714, 'magpsf': 18.792299270629883, 'sigmapsf': 0.11171600222587585, 'isdiffpos': 't', 'ssdistnr': None, 'ssnamenr': None, 'drb': None}, {'candid': 1714240542915015008, 'jd': 2459468.740544, 'ra': 239.1741914, 'dec': 68.3786445, 'fid': 2, 'nid': 1714, 'magpsf': 17.981300354003906, 'sigmapsf': 0.08745399862527847, 'isdiffpos': 't', 'ssdistnr': None, 'ssnamenr': None, 'drb': None}, {'candid': 1716158802915015006, 'jd': 2459470.6588079, 'ra': 239.1742202, 'dec': 68.3786448, 'fid': 2, 'nid': 1716, 'magpsf': 17.95680046081543, 'sigmapsf': 0.075764000415802, 'isdiffpos': 't', 'ssdistnr': None, 'ssnamenr': None, 'drb': None}, {'candid': 1716220431615015069, 'jd': 2459470.7204398, 'ra': 239.1739742, 'dec': 68.378634, 'fid': 1, 'nid': 1716, 'magpsf': 18.717300415039062, 'sigmapsf': 0.11322399973869324, 'isdiffpos': 't', 'ssdistnr': None, 'ssnamenr': None, 'drb': None}, {'candid': 1716241132915015008, 'jd': 2459470.7411343, 'ra': 239.1741776, 'dec': 68.3786375, 'fid': 1, 'nid': 1716, 'magpsf': 18.711000442504883, 'sigmapsf': 0.08945699781179428, 'isdiffpos': 't', 'ssdistnr': None, 'ssnamenr': None, 'drb': None}, {'candid': 1719200742915015007, 'jd': 2459473.7007407, 'ra': 239.1741379, 'dec': 68.3786552, 'fid': 1, 'nid': 1719, 'magpsf': 18.617900848388672, 'sigmapsf': 0.09167400002479553, 'isdiffpos': 't', 'ssdistnr': None, 'ssnamenr': None, 'drb': None}, {'candid': 1719202221615015006, 'jd': 2459473.7022222, 'ra': 239.1739507, 'dec': 68.3786443, 'fid': 1, 'nid': 1719, 'magpsf': 18.733200073242188, 'sigmapsf': 0.11862300336360931, 'isdiffpos': 't', 'ssdistnr': None, 'ssnamenr': None, 'drb': None}, {'candid': 1719260592915015004, 'jd': 2459473.7605903, 'ra': 239.1741811, 'dec': 68.3786353, 'fid': 2, 'nid': 1719, 'magpsf': 18.01580047607422, 'sigmapsf': 0.07340399920940399, 'isdiffpos': 't', 'ssdistnr': None, 'ssnamenr': None, 'drb': None}, {'candid': 1721242092915015007, 'jd': 2459475.7420949, 'ra': 239.1743622, 'dec': 68.3787676, 'fid': 1, 'nid': 1721, 'magpsf': 18.736600875854492, 'sigmapsf': 0.21322600543498993, 'isdiffpos': 't', 'ssdistnr': None, 'ssnamenr': None, 'drb': None}, {'candid': 1722156121615015005, 'jd': 2459476.6561227, 'ra': 239.1739644, 'dec': 68.3787003, 'fid': 1, 'nid': 1722, 'magpsf': 18.631200790405273, 'sigmapsf': 0.11849600076675415, 'isdiffpos': 't', 'ssdistnr': None, 'ssnamenr': None, 'drb': None}, {'candid': 1722197461615015010, 'jd': 2459476.6974653, 'ra': 239.1745154, 'dec': 68.3787, 'fid': 2, 'nid': 1722, 'magpsf': 18.31760025024414, 'sigmapsf': 0.08279599994421005, 'isdiffpos': 't', 'ssdistnr': None, 'ssnamenr': None, 'drb': None}, {'candid': 1723221002915015002, 'jd': 2459477.7210069, 'ra': 239.1741877, 'dec': 68.3786293, 'fid': 2, 'nid': 1723, 'magpsf': 17.862300872802734, 'sigmapsf': 0.08876899629831314, 'isdiffpos': 't', 'ssdistnr': None, 'ssnamenr': None, 'drb': None}, {'candid': 1724158511615015001, 'jd': 2459478.6585185, 'ra': 239.1742197, 'dec': 68.3786575, 'fid': 1, 'nid': 1724, 'magpsf': 18.549699783325195, 'sigmapsf': 0.15666000545024872, 'isdiffpos': 't', 'ssdistnr': None, 'ssnamenr': None, 'drb': None}, {'candid': 1724198651615015004, 'jd': 2459478.6986574, 'ra': 239.1741276, 'dec': 68.3786498, 'fid': 2, 'nid': 1724, 'magpsf': 18.247100830078125, 'sigmapsf': 0.09052000194787979, 'isdiffpos': 't', 'ssdistnr': None, 'ssnamenr': None, 'drb': None}, {'candid': 1725181302915015004, 'jd': 2459479.6813079, 'ra': 239.1742271, 'dec': 68.3786147, 'fid': 1, 'nid': 1725, 'magpsf': 18.750999450683594, 'sigmapsf': 0.14320600032806396, 'isdiffpos': 't', 'ssdistnr': None, 'ssnamenr': None, 'drb': None}, {'candid': 1725238552915015002, 'jd': 2459479.7385532, 'ra': 239.1741262, 'dec': 68.378654, 'fid': 2, 'nid': 1725, 'magpsf': 17.917800903320312, 'sigmapsf': 0.0857509970664978, 'isdiffpos': 't', 'ssdistnr': None, 'ssnamenr': None, 'drb': None}, {'candid': 1726154901615015011, 'jd': 2459480.6549074, 'ra': 239.1739162, 'dec': 68.3786595, 'fid': 1, 'nid': 1726, 'magpsf': 18.709699630737305, 'sigmapsf': 0.11231499910354614, 'isdiffpos': 't', 'ssdistnr': None, 'ssnamenr': None, 'drb': None}, {'candid': 1730181841615015016, 'jd': 2459484.6818403, 'ra': 239.1740397, 'dec': 68.3786011, 'fid': 1, 'nid': 1730, 'magpsf': 18.848499298095703, 'sigmapsf': 0.07212299853563309, 'isdiffpos': 't', 'ssdistnr': None, 'ssnamenr': None, 'drb': None}, {'candid': 1730198132915015009, 'jd': 2459484.6981366, 'ra': 239.1742092, 'dec': 68.3786746, 'fid': 1, 'nid': 1730, 'magpsf': 18.713699340820312, 'sigmapsf': 0.08164399862289429, 'isdiffpos': 't', 'ssdistnr': None, 'ssnamenr': None, 'drb': None}, {'candid': 1730216342915015006, 'jd': 2459484.7163426, 'ra': 239.1740657, 'dec': 68.378629, 'fid': 2, 'nid': 1730, 'magpsf': 18.030399322509766, 'sigmapsf': 0.05979600176215172, 'isdiffpos': 't', 'ssdistnr': None, 'ssnamenr': None, 'drb': None}, {'candid': 1732137711615015007, 'jd': 2459486.6377199, 'ra': 239.1737898, 'dec': 68.3786479, 'fid': 1, 'nid': 1732, 'magpsf': 18.66659927368164, 'sigmapsf': 0.11313299834728241, 'isdiffpos': 't', 'ssdistnr': None, 'ssnamenr': None, 'drb': None}, {'candid': 1732181622915015009, 'jd': 2459486.6816204, 'ra': 239.1740643, 'dec': 68.3786513, 'fid': 2, 'nid': 1732, 'magpsf': 17.937000274658203, 'sigmapsf': 0.06162799894809723, 'isdiffpos': 't', 'ssdistnr': None, 'ssnamenr': None, 'drb': None}, {'candid': 1732183061615015012, 'jd': 2459486.6830671, 'ra': 239.1741032, 'dec': 68.378717, 'fid': 2, 'nid': 1732, 'magpsf': 18.338600158691406, 'sigmapsf': 0.083856001496315, 'isdiffpos': 't', 'ssdistnr': None, 'ssnamenr': None, 'drb': None}, {'candid': 1734145041615015011, 'jd': 2459488.6450463, 'ra': 239.1741181, 'dec': 68.3786433, 'fid': 1, 'nid': 1734, 'magpsf': 18.760400772094727, 'sigmapsf': 0.1049019992351532, 'isdiffpos': 't', 'ssdistnr': None, 'ssnamenr': None, 'drb': None}, {'candid': 1734159442915015006, 'jd': 2459488.6594444, 'ra': 239.1742607, 'dec': 68.3786289, 'fid': 2, 'nid': 1734, 'magpsf': 17.903799057006836, 'sigmapsf': 0.063680000603199, 'isdiffpos': 't', 'ssdistnr': None, 'ssnamenr': None, 'drb': None}, {'candid': 1734160431615015005, 'jd': 2459488.6604398, 'ra': 239.1742416, 'dec': 68.3787111, 'fid': 2, 'nid': 1734, 'magpsf': 18.27549934387207, 'sigmapsf': 0.08624900132417679, 'isdiffpos': 't', 'ssdistnr': None, 'ssnamenr': None, 'drb': None}, {'candid': 1734226262915015005, 'jd': 2459488.7262616, 'ra': 239.1742699, 'dec': 68.3785972, 'fid': 1, 'nid': 1734, 'magpsf': 18.728200912475586, 'sigmapsf': 0.1339309960603714, 'isdiffpos': 't', 'ssdistnr': None, 'ssnamenr': None, 'drb': None}, {'candid': 1736139202915015006, 'jd': 2459490.6392014, 'ra': 239.1740809, 'dec': 68.378669, 'fid': 2, 'nid': 1736, 'magpsf': 17.920900344848633, 'sigmapsf': 0.07639499753713608, 'isdiffpos': 't', 'ssdistnr': None, 'ssnamenr': None, 'drb': None}, {'candid': 1744134832915015006, 'jd': 2459498.634838, 'ra': 239.1744494, 'dec': 68.3786587, 'fid': 1, 'nid': 1744, 'magpsf': 18.98150062561035, 'sigmapsf': 0.09525100141763687, 'isdiffpos': 't', 'ssdistnr': None, 'ssnamenr': None, 'drb': None}, {'candid': 1748134402915015005, 'jd': 2459502.6344097, 'ra': 239.1739484, 'dec': 68.3785746, 'fid': 1, 'nid': 1748, 'magpsf': 18.89259910583496, 'sigmapsf': 0.1411760002374649, 'isdiffpos': 't', 'ssdistnr': None, 'ssnamenr': None, 'drb': None}, {'candid': 1748176382915015007, 'jd': 2459502.6763889, 'ra': 239.1737244, 'dec': 68.378632, 'fid': 2, 'nid': 1748, 'magpsf': 18.194000244140625, 'sigmapsf': 0.09349100291728973, 'isdiffpos': 't', 'ssdistnr': None, 'ssnamenr': None, 'drb': None}, {'candid': 1750133142915015004, 'jd': 2459504.6331481, 'ra': 239.1743189, 'dec': 68.3787221, 'fid': 2, 'nid': 1750, 'magpsf': 18.28610610961914, 'sigmapsf': 0.10263103246688843, 'isdiffpos': 't', 'ssdistnr': -999.0, 'ssnamenr': 'null', 'drb': None}, {'candid': 1846409221615015008, 'jd': 2459600.9092245, 'ra': 239.1740125, 'dec': 68.3786741, 'fid': 1, 'nid': 1846, 'magpsf': 18.402000427246094, 'sigmapsf': 0.10917100310325623, 'isdiffpos': 't', 'ssdistnr': None, 'ssnamenr': None, 'drb': None}, {'candid': 1846448542915015004, 'jd': 2459600.9485417, 'ra': 239.1742654, 'dec': 68.3786288, 'fid': 1, 'nid': 1846, 'magpsf': 18.404399871826172, 'sigmapsf': 0.09525100141763687, 'isdiffpos': 't', 'ssdistnr': None, 'ssnamenr': None, 'drb': None}, {'candid': 1846506461615015020, 'jd': 2459601.0064699, 'ra': 239.174208, 'dec': 68.3786406, 'fid': 2, 'nid': 1846, 'magpsf': 18.05459976196289, 'sigmapsf': 0.07396200299263, 'isdiffpos': 't', 'ssdistnr': None, 'ssnamenr': None, 'drb': None}, {'candid': 1846506972915015008, 'jd': 2459601.0069792, 'ra': 239.1741088, 'dec': 68.3786599, 'fid': 2, 'nid': 1846, 'magpsf': 17.861299514770508, 'sigmapsf': 0.07623100280761719, 'isdiffpos': 't', 'ssdistnr': None, 'ssnamenr': None, 'drb': None}, {'candid': 1869366661615015006, 'jd': 2459623.8666667, 'ra': 239.1744843, 'dec': 68.3786739, 'fid': 2, 'nid': 1869, 'magpsf': 17.960500717163086, 'sigmapsf': 0.0989610031247139, 'isdiffpos': 't', 'ssdistnr': None, 'ssnamenr': None, 'drb': None}, {'candid': 1869388492915015004, 'jd': 2459623.8884954, 'ra': 239.1743195, 'dec': 68.3786402, 'fid': 2, 'nid': 1869, 'magpsf': 17.81329917907715, 'sigmapsf': 0.05837399885058403, 'isdiffpos': 't', 'ssdistnr': None, 'ssnamenr': None, 'drb': None}, {'candid': 1869426582915015002, 'jd': 2459623.9265856, 'ra': 239.1741134, 'dec': 68.378621, 'fid': 1, 'nid': 1869, 'magpsf': 18.53820037841797, 'sigmapsf': 0.08539800345897675, 'isdiffpos': 't', 'ssdistnr': None, 'ssnamenr': None, 'drb': None}, {'candid': 1869532551615015007, 'jd': 2459624.0325579, 'ra': 239.1740601, 'dec': 68.3786776, 'fid': 1, 'nid': 1869, 'magpsf': 18.545799255371094, 'sigmapsf': 0.06253799796104431, 'isdiffpos': 't', 'ssdistnr': None, 'ssnamenr': None, 'drb': None}, {'candid': 1871347561615015004, 'jd': 2459625.8475694, 'ra': 239.1744473, 'dec': 68.3787209, 'fid': 1, 'nid': 1871, 'magpsf': 18.526500701904297, 'sigmapsf': 0.15489399433135986, 'isdiffpos': 't', 'ssdistnr': None, 'ssnamenr': None, 'drb': None}, {'candid': 1871389662915015002, 'jd': 2459625.8896644, 'ra': 239.1742707, 'dec': 68.3786414, 'fid': 1, 'nid': 1871, 'magpsf': 18.643699645996094, 'sigmapsf': 0.17107999324798584, 'isdiffpos': 't', 'ssdistnr': None, 'ssnamenr': None, 'drb': None}, {'candid': 1871404982915015004, 'jd': 2459625.9049884, 'ra': 239.1742112, 'dec': 68.3786814, 'fid': 2, 'nid': 1871, 'magpsf': 17.75670051574707, 'sigmapsf': 0.0672760009765625, 'isdiffpos': 't', 'ssdistnr': None, 'ssnamenr': None, 'drb': None}, {'candid': 1871455861615015006, 'jd': 2459625.9558681, 'ra': 239.1741214, 'dec': 68.3786686, 'fid': 2, 'nid': 1871, 'magpsf': 17.993099212646484, 'sigmapsf': 0.06955999881029129, 'isdiffpos': 't', 'ssdistnr': None, 'ssnamenr': None, 'drb': None}, {'candid': 1874368881615015005, 'jd': 2459628.8688889, 'ra': 239.1741161, 'dec': 68.378673, 'fid': 1, 'nid': 1874, 'magpsf': 18.501300811767578, 'sigmapsf': 0.10881800204515457, 'isdiffpos': 't', 'ssdistnr': None, 'ssnamenr': None, 'drb': None}, {'candid': 1874388782915015002, 'jd': 2459628.8887847, 'ra': 239.1743107, 'dec': 68.3786324, 'fid': 1, 'nid': 1874, 'magpsf': 18.525999069213867, 'sigmapsf': 0.13166199624538422, 'isdiffpos': 't', 'ssdistnr': None, 'ssnamenr': None, 'drb': None}, {'candid': 1874424501615015004, 'jd': 2459628.9245023, 'ra': 239.1741808, 'dec': 68.3786817, 'fid': 2, 'nid': 1874, 'magpsf': 18.030099868774414, 'sigmapsf': 0.06057199835777283, 'isdiffpos': 't', 'ssdistnr': None, 'ssnamenr': None, 'drb': None}, {'candid': 1874425012915015003, 'jd': 2459628.9250116, 'ra': 239.1741544, 'dec': 68.3785721, 'fid': 2, 'nid': 1874, 'magpsf': 17.868900299072266, 'sigmapsf': 0.07212000340223312, 'isdiffpos': 't', 'ssdistnr': None, 'ssnamenr': None, 'drb': None}, {'candid': 1876427171615015009, 'jd': 2459630.9271759, 'ra': 239.1740831, 'dec': 68.3786838, 'fid': 1, 'nid': 1876, 'magpsf': 18.60700035095215, 'sigmapsf': 0.09535399824380875, 'isdiffpos': 't', 'ssdistnr': None, 'ssnamenr': None, 'drb': None}, {'candid': 1876427692915015003, 'jd': 2459630.9276968, 'ra': 239.1740762, 'dec': 68.3786646, 'fid': 1, 'nid': 1876, 'magpsf': 18.555599212646484, 'sigmapsf': 0.08317799866199493, 'isdiffpos': 't', 'ssdistnr': None, 'ssnamenr': None, 'drb': None}, {'candid': 1876490331615015006, 'jd': 2459630.9903356, 'ra': 239.1742581, 'dec': 68.3787309, 'fid': 2, 'nid': 1876, 'magpsf': 18.06599998474121, 'sigmapsf': 0.07339499890804291, 'isdiffpos': 't', 'ssdistnr': None, 'ssnamenr': None, 'drb': None}, {'candid': 1876517762915015005, 'jd': 2459631.0177662, 'ra': 239.1742147, 'dec': 68.3787024, 'fid': 2, 'nid': 1876, 'magpsf': 17.89310073852539, 'sigmapsf': 0.07464200258255005, 'isdiffpos': 't', 'ssdistnr': None, 'ssnamenr': None, 'drb': None}, {'candid': 1883364301615015007, 'jd': 2459637.8643056, 'ra': 239.1740333, 'dec': 68.3786734, 'fid': 1, 'nid': 1883, 'magpsf': 18.58919906616211, 'sigmapsf': 0.1109749972820282, 'isdiffpos': 't', 'ssdistnr': None, 'ssnamenr': None, 'drb': None}, {'candid': 1883389902915015006, 'jd': 2459637.8899074, 'ra': 239.1741822, 'dec': 68.3787383, 'fid': 1, 'nid': 1883, 'magpsf': 18.544099807739258, 'sigmapsf': 0.10546799749135971, 'isdiffpos': 't', 'ssdistnr': None, 'ssnamenr': None, 'drb': None}, {'candid': 1883405752915015012, 'jd': 2459637.9057523, 'ra': 239.1741465, 'dec': 68.37863, 'fid': 2, 'nid': 1883, 'magpsf': 17.901599884033203, 'sigmapsf': 0.0735350027680397, 'isdiffpos': 't', 'ssdistnr': None, 'ssnamenr': None, 'drb': None}, {'candid': 1883407751615015008, 'jd': 2459637.9077546, 'ra': 239.1740711, 'dec': 68.3785578, 'fid': 2, 'nid': 1883, 'magpsf': 18.180099487304688, 'sigmapsf': 0.07813400030136108, 'isdiffpos': 't', 'ssdistnr': None, 'ssnamenr': None, 'drb': None}, {'candid': 1885304691615015007, 'jd': 2459639.8046991, 'ra': 239.1734486, 'dec': 68.3788079, 'fid': 2, 'nid': 1885, 'magpsf': 17.729700088500977, 'sigmapsf': 0.07350900024175644, 'isdiffpos': 't', 'ssdistnr': None, 'ssnamenr': None, 'drb': None}, {'candid': 1885346421615015005, 'jd': 2459639.8464236, 'ra': 239.1741684, 'dec': 68.3786439, 'fid': 1, 'nid': 1885, 'magpsf': 18.483400344848633, 'sigmapsf': 0.1061910018324852, 'isdiffpos': 't', 'ssdistnr': None, 'ssnamenr': None, 'drb': None}, {'candid': 1885347402915015006, 'jd': 2459639.8474074, 'ra': 239.174087, 'dec': 68.3787123, 'fid': 1, 'nid': 1885, 'magpsf': 18.487499237060547, 'sigmapsf': 0.1035889983177185, 'isdiffpos': 't', 'ssdistnr': None, 'ssnamenr': None, 'drb': None}, {'candid': 1885448102915015006, 'jd': 2459639.9481019, 'ra': 239.1742026, 'dec': 68.378686, 'fid': 2, 'nid': 1885, 'magpsf': 17.894500732421875, 'sigmapsf': 0.0879020020365715, 'isdiffpos': 't', 'ssdistnr': None, 'ssnamenr': None, 'drb': None}, {'candid': 1887329241615015008, 'jd': 2459641.8292477, 'ra': 239.174337, 'dec': 68.3786071, 'fid': 2, 'nid': 1887, 'magpsf': 18.013399124145508, 'sigmapsf': 0.05945099890232086, 'isdiffpos': '1', 'ssdistnr': None, 'ssnamenr': None, 'drb': None}, {'candid': 1887346751615015011, 'jd': 2459641.8467593, 'ra': 239.1740314, 'dec': 68.3786599, 'fid': 1, 'nid': 1887, 'magpsf': 18.465599060058594, 'sigmapsf': 0.09858600050210953, 'isdiffpos': '1', 'ssdistnr': None, 'ssnamenr': None, 'drb': None}, {'candid': 1887348242915015012, 'jd': 2459641.8482407, 'ra': 239.1742191, 'dec': 68.3786639, 'fid': 1, 'nid': 1887, 'magpsf': 18.486400604248047, 'sigmapsf': 0.07342000305652618, 'isdiffpos': '1', 'ssdistnr': None, 'ssnamenr': None, 'drb': None}, {'candid': 1887368472915015005, 'jd': 2459641.8684722, 'ra': 239.1742362, 'dec': 68.3786539, 'fid': 2, 'nid': 1887, 'magpsf': 17.790842056274414, 'sigmapsf': 0.05220276117324829, 'isdiffpos': 't', 'ssdistnr': -999.0, 'ssnamenr': 'null', 'drb': None}, {'jd': 2459324.8903935, 'fid': 1, 'diffmaglim': 20.733600616455078}, {'jd': 2459328.7886574, 'fid': 2, 'diffmaglim': 19.908599853515625}, {'jd': 2459328.7910185, 'fid': 2, 'diffmaglim': 19.823200225830078}, {'jd': 2459328.8257523, 'fid': 1, 'diffmaglim': 19.60300064086914}, {'jd': 2459328.8403125, 'fid': 1, 'diffmaglim': 19.76289939880371}, {'jd': 2459334.7462847, 'fid': 1, 'diffmaglim': 20.381900787353516}, {'jd': 2459334.8653472, 'fid': 2, 'diffmaglim': 19.95319938659668}, {'jd': 2459334.8705324, 'fid': 2, 'diffmaglim': 20.02120018005371}, {'jd': 2459336.8634375, 'fid': 2, 'diffmaglim': 20.35379981994629}, {'jd': 2459336.8648958, 'fid': 2, 'diffmaglim': 20.328800201416016}, {'jd': 2459336.9078241, 'fid': 1, 'diffmaglim': 20.22249984741211}, {'jd': 2459339.8261227, 'fid': 2, 'diffmaglim': 20.399799346923828}, {'jd': 2459339.8465162, 'fid': 2, 'diffmaglim': 20.66349983215332}, {'jd': 2459339.8916319, 'fid': 1, 'diffmaglim': 20.670799255371094}, {'jd': 2459342.9286806, 'fid': 2, 'diffmaglim': 20.83799934387207}, {'jd': 2459343.8212731, 'fid': 2, 'diffmaglim': 20.490100860595703}, {'jd': 2459345.8511343, 'fid': 2, 'diffmaglim': 20.628599166870117}, {'jd': 2459367.8853241, 'fid': 2, 'diffmaglim': 19.849300384521484}, {'jd': 2459372.823912, 'fid': 2, 'diffmaglim': 18.767499923706055}, {'jd': 2459374.7409606, 'fid': 1, 'diffmaglim': 20.161300659179688}, {'jd': 2459382.8453472, 'fid': 2, 'diffmaglim': 20.256799697875977}, {'jd': 2459417.8682292, 'fid': 1, 'diffmaglim': 16.306400299072266}, {'jd': 2459419.8524421, 'fid': 1, 'diffmaglim': 17.44659996032715}, {'jd': 2459419.8561806, 'fid': 1, 'diffmaglim': 17.334299087524414}, {'jd': 2459423.7796875, 'fid': 2, 'diffmaglim': 17.458599090576172}, {'jd': 2459423.7801968, 'fid': 2, 'diffmaglim': 17.172100067138672}, {'jd': 2459423.825, 'fid': 1, 'diffmaglim': 18.599199295043945}, {'jd': 2459427.8234838, 'fid': 2, 'diffmaglim': 20.267499923706055}, {'jd': 2459434.6996644, 'fid': 2, 'diffmaglim': 20.344100952148438}, {'jd': 2459436.7004398, 'fid': 2, 'diffmaglim': 20.27440071105957}, {'jd': 2459443.7674306, 'fid': 2, 'diffmaglim': 19.572900772094727}, {'jd': 2459446.7877315, 'fid': 1, 'diffmaglim': 19.052799224853516}, {'jd': 2459446.7915046, 'fid': 1, 'diffmaglim': 18.88319969177246}, {'jd': 2459451.6658796, 'fid': 2, 'diffmaglim': 20.413799285888672}, {'jd': 2459453.7595023, 'fid': 2, 'diffmaglim': 20.094999313354492}, {'jd': 2459455.6831366, 'fid': 2, 'diffmaglim': 20.369400024414062}, {'jd': 2459458.7179051, 'fid': 2, 'diffmaglim': 20.2898006439209}, {'jd': 2459470.6578125, 'fid': 2, 'diffmaglim': 20.195600509643555}, {'jd': 2459473.6580208, 'fid': 2, 'diffmaglim': 20.0216007232666}, {'jd': 2459480.7009259, 'fid': 2, 'diffmaglim': 19.739599227905273}, {'jd': 2459490.6998727, 'fid': 1, 'diffmaglim': 16.61400032043457}], [{'candid': 1867469973315015005, 'jd': 2459621.9699769, 'ra': 192.6981034, 'dec': 77.313901, 'fid': 1, 'nid': 1867, 'magpsf': 17.265399932861328, 'sigmapsf': 0.04182000085711479, 'isdiffpos': 't', 'ssdistnr': None, 'ssnamenr': None, 'drb': 0.9999910593032837}, {'candid': 1867469973315025006, 'jd': 2459621.9699769, 'ra': 192.6980993, 'dec': 77.3139011, 'fid': 1, 'nid': 1867, 'magpsf': 17.266000747680664, 'sigmapsf': 0.04637499898672104, 'isdiffpos': 't', 'ssdistnr': None, 'ssnamenr': None, 'drb': None}, {'candid': 1868465534415015003, 'jd': 2459622.9655324, 'ra': 192.698224, 'dec': 77.3138965, 'fid': 1, 'nid': 1868, 'magpsf': 17.30139923095703, 'sigmapsf': 0.04600000008940697, 'isdiffpos': 't', 'ssdistnr': None, 'ssnamenr': None, 'drb': None}, {'candid': 1868529304415015004, 'jd': 2459623.0293056, 'ra': 192.6981063, 'dec': 77.3139319, 'fid': 2, 'nid': 1868, 'magpsf': 17.189899444580078, 'sigmapsf': 0.03753700107336044, 'isdiffpos': 't', 'ssdistnr': None, 'ssnamenr': None, 'drb': None}, {'candid': 1869238363315015007, 'jd': 2459623.7383681, 'ra': 192.6979729, 'dec': 77.3139348, 'fid': 1, 'nid': 1869, 'magpsf': 17.28030014038086, 'sigmapsf': 0.053769998252391815, 'isdiffpos': 't', 'ssdistnr': None, 'ssnamenr': None, 'drb': None}, {'candid': 1869362293315015000, 'jd': 2459623.8622917, 'ra': 192.6981225, 'dec': 77.3139421, 'fid': 2, 'nid': 1869, 'magpsf': 17.162599563598633, 'sigmapsf': 0.0447859987616539, 'isdiffpos': 't', 'ssdistnr': None, 'ssnamenr': None, 'drb': None}, {'candid': 1870407974415015004, 'jd': 2459624.9079745, 'ra': 192.6981543, 'dec': 77.3139355, 'fid': 2, 'nid': 1870, 'magpsf': 17.177799224853516, 'sigmapsf': 0.037742000073194504, 'isdiffpos': 't', 'ssdistnr': None, 'ssnamenr': None, 'drb': None}, {'candid': 1870513244415015003, 'jd': 2459625.0132407, 'ra': 192.6981173, 'dec': 77.3139334, 'fid': 1, 'nid': 1870, 'magpsf': 17.3031005859375, 'sigmapsf': 0.051614999771118164, 'isdiffpos': 't', 'ssdistnr': None, 'ssnamenr': None, 'drb': None}, {'candid': 1871221703315015001, 'jd': 2459625.7217014, 'ra': 192.6979532, 'dec': 77.313928, 'fid': 1, 'nid': 1871, 'magpsf': 17.342599868774414, 'sigmapsf': 0.052232999354600906, 'isdiffpos': 't', 'ssdistnr': None, 'ssnamenr': None, 'drb': None}, {'candid': 1871284373315015004, 'jd': 2459625.784375, 'ra': 192.6981539, 'dec': 77.3139292, 'fid': 2, 'nid': 1871, 'magpsf': 17.246200561523438, 'sigmapsf': 0.05327000096440315, 'isdiffpos': 't', 'ssdistnr': None, 'ssnamenr': None, 'drb': None}, {'candid': 1873448874415015002, 'jd': 2459627.9488773, 'ra': 192.6978728, 'dec': 77.3138314, 'fid': 1, 'nid': 1873, 'magpsf': 17.43269920349121, 'sigmapsf': 0.0675320029258728, 'isdiffpos': 't', 'ssdistnr': None, 'ssnamenr': None, 'drb': None}, {'candid': 1873513314415015003, 'jd': 2459628.0133102, 'ra': 192.6981423, 'dec': 77.3139303, 'fid': 2, 'nid': 1873, 'magpsf': 17.2593994140625, 'sigmapsf': 0.079196996986866, 'isdiffpos': 't', 'ssdistnr': None, 'ssnamenr': None, 'drb': None}, {'candid': 1874198173315015004, 'jd': 2459628.6981713, 'ra': 192.6980717, 'dec': 77.3139339, 'fid': 1, 'nid': 1874, 'magpsf': 17.468900680541992, 'sigmapsf': 0.05327500030398369, 'isdiffpos': 't', 'ssdistnr': None, 'ssnamenr': None, 'drb': None}, {'candid': 1874410993315015001, 'jd': 2459628.9109954, 'ra': 192.6981657, 'dec': 77.3138719, 'fid': 2, 'nid': 1874, 'magpsf': 17.29360008239746, 'sigmapsf': 0.05550200119614601, 'isdiffpos': 't', 'ssdistnr': None, 'ssnamenr': None, 'drb': None}, {'candid': 1875451194415015005, 'jd': 2459629.9511921, 'ra': 192.6979361, 'dec': 77.3138848, 'fid': 1, 'nid': 1875, 'magpsf': 17.488100051879883, 'sigmapsf': 0.04202599823474884, 'isdiffpos': 't', 'ssdistnr': None, 'ssnamenr': None, 'drb': None}, {'candid': 1875464824415015005, 'jd': 2459629.9648264, 'ra': 192.6981172, 'dec': 77.3139378, 'fid': 2, 'nid': 1875, 'magpsf': 17.33139991760254, 'sigmapsf': 0.045841000974178314, 'isdiffpos': 't', 'ssdistnr': None, 'ssnamenr': None, 'drb': None}, {'candid': 1882405423315015004, 'jd': 2459636.9054282, 'ra': 192.6982057, 'dec': 77.3139379, 'fid': 2, 'nid': 1882, 'magpsf': 17.55430030822754, 'sigmapsf': 0.05548100173473358, 'isdiffpos': 't', 'ssdistnr': None, 'ssnamenr': None, 'drb': None}, {'candid': 1882446783315015002, 'jd': 2459636.9467824, 'ra': 192.6981654, 'dec': 77.313915, 'fid': 1, 'nid': 1882, 'magpsf': 17.856300354003906, 'sigmapsf': 0.08131799846887589, 'isdiffpos': 't', 'ssdistnr': None, 'ssnamenr': None, 'drb': None}, {'candid': 1882510094415015004, 'jd': 2459637.0100926, 'ra': 192.6981517, 'dec': 77.3139195, 'fid': 1, 'nid': 1882, 'magpsf': 17.80900001525879, 'sigmapsf': 0.08460800349712372, 'isdiffpos': 't', 'ssdistnr': None, 'ssnamenr': None, 'drb': None}, {'candid': 1882531964415015002, 'jd': 2459637.0319676, 'ra': 192.6981209, 'dec': 77.3139173, 'fid': 2, 'nid': 1882, 'magpsf': 17.60409927368164, 'sigmapsf': 0.0512549988925457, 'isdiffpos': 't', 'ssdistnr': None, 'ssnamenr': None, 'drb': None}, {'candid': 1885189743315015006, 'jd': 2459639.6897454, 'ra': 192.6980453, 'dec': 77.3139217, 'fid': 1, 'nid': 1885, 'magpsf': 18.00349998474121, 'sigmapsf': 0.07229600101709366, 'isdiffpos': '1', 'ssdistnr': None, 'ssnamenr': None, 'drb': None}, {'candid': 1885240873315015003, 'jd': 2459639.7408796, 'ra': 192.6981286, 'dec': 77.3138507, 'fid': 2, 'nid': 1885, 'magpsf': 17.669164657592773, 'sigmapsf': 0.05393576622009277, 'isdiffpos': 't', 'ssdistnr': -999.0, 'ssnamenr': 'null', 'drb': None}]]\n"
     ]
    }
   ],
   "source": [
    "token = 'bb6772e74473f2c7bceb698ae1c377d83b8f7223'\n",
    "L = lasair.lasair_client(token)\n",
    "c = L.lightcurves(['ZTF19abzhubs','ZTF21abccdld','ZTF22aaafjir'])\n",
    "print(c)"
   ]
  },
  {
   "cell_type": "code",
   "execution_count": 70,
   "id": "unlike-minister",
   "metadata": {},
   "outputs": [],
   "source": [
    "lc = pd.json_normalize(c[0])"
   ]
  },
  {
   "cell_type": "code",
   "execution_count": 123,
   "id": "restricted-pencil",
   "metadata": {},
   "outputs": [
    {
     "data": {
      "text/plain": [
       "True"
      ]
     },
     "execution_count": 123,
     "metadata": {},
     "output_type": "execute_result"
    }
   ],
   "source": [
    "'diffmaglim' in lc.columns"
   ]
  },
  {
   "cell_type": "code",
   "execution_count": 72,
   "id": "crude-district",
   "metadata": {},
   "outputs": [],
   "source": [
    "gIDX = lc['fid']==1\n",
    "rIDX = lc['fid']==2\n",
    "nonDets = lc['candid'].isna()\n",
    "FiveSig = 1.09/lc['sigmapsf'] >= 5"
   ]
  },
  {
   "cell_type": "code",
   "execution_count": 80,
   "id": "alone-surrey",
   "metadata": {},
   "outputs": [
    {
     "data": {
      "text/plain": [
       "0     False\n",
       "1     False\n",
       "2     False\n",
       "3     False\n",
       "4     False\n",
       "5     False\n",
       "6     False\n",
       "7     False\n",
       "8     False\n",
       "9     False\n",
       "10    False\n",
       "11    False\n",
       "12    False\n",
       "13    False\n",
       "14    False\n",
       "15    False\n",
       "16     True\n",
       "17     True\n",
       "18     True\n",
       "19     True\n",
       "20     True\n",
       "21     True\n",
       "22     True\n",
       "23     True\n",
       "24     True\n",
       "25     True\n",
       "26     True\n",
       "27     True\n",
       "28     True\n",
       "29     True\n",
       "30     True\n",
       "31     True\n",
       "32     True\n",
       "33     True\n",
       "34     True\n",
       "35     True\n",
       "36     True\n",
       "Name: candid, dtype: bool"
      ]
     },
     "execution_count": 80,
     "metadata": {},
     "output_type": "execute_result"
    }
   ],
   "source": [
    "nonDets"
   ]
  },
  {
   "cell_type": "code",
   "execution_count": 83,
   "id": "biblical-florist",
   "metadata": {},
   "outputs": [
    {
     "data": {
      "image/png": "[encoded data removed]",
      "text/plain": [
       "<Figure size 432x288 with 1 Axes>"
      ]
     },
     "metadata": {
      "needs_background": "light"
     },
     "output_type": "display_data"
    }
   ],
   "source": []
  },
  {
   "cell_type": "code",
   "execution_count": 74,
   "id": "tough-webmaster",
   "metadata": {},
   "outputs": [
    {
     "data": {
      "text/plain": [
       "0     27.601225\n",
       "1     30.938661\n",
       "2     27.748785\n",
       "3     27.748785\n",
       "4     21.535117\n",
       "5     21.535117\n",
       "6     28.892541\n",
       "7     27.366307\n",
       "8     22.245807\n",
       "9     23.502522\n",
       "10    23.018605\n",
       "11    25.856956\n",
       "12    21.261239\n",
       "13    21.431442\n",
       "14    22.434446\n",
       "15    25.281095\n",
       "16          NaN\n",
       "17          NaN\n",
       "18          NaN\n",
       "19          NaN\n",
       "20          NaN\n",
       "21          NaN\n",
       "22          NaN\n",
       "23          NaN\n",
       "24          NaN\n",
       "25          NaN\n",
       "26          NaN\n",
       "27          NaN\n",
       "28          NaN\n",
       "29          NaN\n",
       "30          NaN\n",
       "31          NaN\n",
       "32          NaN\n",
       "33          NaN\n",
       "34          NaN\n",
       "35          NaN\n",
       "36          NaN\n",
       "Name: sigmapsf, dtype: float64"
      ]
     },
     "execution_count": 74,
     "metadata": {},
     "output_type": "execute_result"
    }
   ],
   "source": [
    "1.09/lc['sigmapsf']"
   ]
  },
  {
   "cell_type": "code",
   "execution_count": 75,
   "id": "cooperative-consciousness",
   "metadata": {},
   "outputs": [],
   "source": [
    "##Open Input YAML File\n",
    "inputCriteriaPath = './tidesSelectionFunctions.yml'\n",
    "inputCriteriaOpen = yaml.load(open(inputCriteriaPath), Loader=yaml.SafeLoader)\n",
    "inputCriteriaName = inputCriteriaOpen['tidesSNZTFSelect']"
   ]
  },
  {
   "cell_type": "code",
   "execution_count": 104,
   "id": "seven-tourist",
   "metadata": {},
   "outputs": [],
   "source": [
    "filterDict = {1:'g', 2:'r', 'g':1, 'r':2}\n",
    "\n",
    "def lightcurveSatify(criteria,lightcurve):\n",
    "    '''\n",
    "    Our paper states that the tides slection criteria is as follows:\n",
    "    - only consider griz\n",
    "    - must have at least 3 5sigma detections\n",
    "    - Must have 5sigma detections across 2 nights\n",
    "    - Must reach brighter than 22.5mag\n",
    "    '''\n",
    "    needFilters = criteria['filters']\n",
    "    needSignificance = criteria['significance']\n",
    "    minBands = criteria['minBands']\n",
    "    minNights = criteria['minNights']\n",
    "    magLimit = criteria['magLimit']\n",
    "    \n",
    "    filtersBool = np.array([filterDict[x] in inputCriteriaName['filters'] for x in lightcurve['fid']])\n",
    "    significanceBool = 1.09/lightcurve['sigmapsf'] >= needSignificance\n",
    "    \n",
    "    sigAndFilterBool = filtersBool & significanceBool\n",
    "    \n",
    "    meetMinBands = len(np.unique(lightcurve['fid'][sigAndFilterBool])) >= minBands\n",
    "    \n",
    "    meetMinNight = len(np.unique(lightcurve['nid'][sigAndFilterBool])) >= minNights\n",
    "    \n",
    "    meetMagLimit = min(lightcurve['magpsf']) < magLimit\n",
    "    \n",
    "    if meetMinBands == meetMinNight == meetMagLimit == True:\n",
    "        return True\n",
    "    else:\n",
    "        return False\n",
    "\n",
    "def plotLightCurve(name, lc, triggerDate=None, saveName=None):\n",
    "    plt.scatter(lc['jd'][nonDets & gIDX], lc['diffmaglim'][nonDets & gIDX], marker='v', color='green', alpha=0.5)\n",
    "    plt.scatter(lc['jd'][nonDets & rIDX], lc['diffmaglim'][nonDets & rIDX], marker='v', color='red', alpha=0.5)\n",
    "\n",
    "    plt.errorbar(lc['jd'][gIDX & FiveSig], lc['magpsf'][gIDX & FiveSig], yerr=lc['sigmapsf'][gIDX & FiveSig], fmt='o', color='green', label='g')\n",
    "    plt.errorbar(lc['jd'][rIDX & FiveSig], lc['magpsf'][rIDX & FiveSig], yerr=lc['sigmapsf'][rIDX & FiveSig], fmt='o', color='red', label='r')\n",
    "    \n",
    "    if triggerDate is not None:\n",
    "        plt.axvline(triggerDate, ls='--', c='k', label='Trigger Date')\n",
    "    plt.gca().invert_yaxis()\n",
    "    plt.title(name)\n",
    "    plt.legend(loc='upper right')\n",
    "    plt.xlabel('JD')\n",
    "    plt.ylabel('Mag')\n",
    "    \n",
    "    if saveName is not None:\n",
    "        plt.savefig(saveName, dpi=300, bbox_inches='tight')\n"
   ]
  },
  {
   "cell_type": "code",
   "execution_count": 105,
   "id": "productive-springfield",
   "metadata": {},
   "outputs": [
    {
     "data": {
      "text/plain": [
       "True"
      ]
     },
     "execution_count": 105,
     "metadata": {},
     "output_type": "execute_result"
    }
   ],
   "source": [
    "lightcurveSatify(inputCriteriaName, lc)"
   ]
  },
  {
   "cell_type": "code",
   "execution_count": 106,
   "id": "certified-weather",
   "metadata": {},
   "outputs": [
    {
     "data": {
      "image/png": "[encoded data removed]",
      "text/plain": [
       "<Figure size 432x288 with 1 Axes>"
      ]
     },
     "metadata": {
      "needs_background": "light"
     },
     "output_type": "display_data"
    }
   ],
   "source": [
    "plotLightCurve('Test',lc,triggerDate=lc['jd'].mean(), saveName='./testOutputFigures/TestFig.png')"
   ]
  },
  {
   "cell_type": "code",
   "execution_count": 112,
   "id": "suspected-report",
   "metadata": {},
   "outputs": [],
   "source": [
    "# Test stepping through data in real time\n",
    "\n",
    "datesTest = np.unique(lc['jd'][~nonDets])"
   ]
  },
  {
   "cell_type": "code",
   "execution_count": 113,
   "id": "spread-purchase",
   "metadata": {},
   "outputs": [
    {
     "data": {
      "text/plain": [
       "array([2459462.6903704, 2459462.7710069, 2459464.6748264, 2459464.7761227,\n",
       "       2459466.6665741, 2459466.7136458, 2459468.6735417, 2459468.7333796,\n",
       "       2459470.6497338, 2459470.691412 , 2459473.6926736, 2459473.7326389,\n",
       "       2459641.9984606, 2459642.0100231])"
      ]
     },
     "execution_count": 113,
     "metadata": {},
     "output_type": "execute_result"
    }
   ],
   "source": [
    "datesTest"
   ]
  },
  {
   "cell_type": "code",
   "execution_count": 120,
   "id": "built-option",
   "metadata": {},
   "outputs": [
    {
     "data": {
      "text/plain": [
       "2459464.6748264"
      ]
     },
     "execution_count": 120,
     "metadata": {},
     "output_type": "execute_result"
    }
   ],
   "source": [
    "min(datesTest[np.array(list((map(lambda x: lightcurveSatify(inputCriteriaName, lc[lc['jd']<=x]), datesTest))))])"
   ]
  },
  {
   "cell_type": "code",
   "execution_count": 121,
   "id": "possible-tract",
   "metadata": {},
   "outputs": [
    {
     "data": {
      "image/png": "[encoded data removed]",
      "text/plain": [
       "<Figure size 432x288 with 1 Axes>"
      ]
     },
     "metadata": {
      "needs_background": "light"
     },
     "output_type": "display_data"
    }
   ],
   "source": [
    "plotLightCurve('Test',lc,triggerDate=2459464.6748264, saveName='./testOutputFigures/TestFig.png')"
   ]
  },
  {
   "cell_type": "code",
   "execution_count": 114,
   "id": "common-highlight",
   "metadata": {},
   "outputs": [
    {
     "name": "stdout",
     "output_type": "stream",
     "text": [
      "False\n",
      "False\n",
      "True\n",
      "True\n",
      "True\n",
      "True\n",
      "True\n",
      "True\n",
      "True\n",
      "True\n",
      "True\n",
      "True\n",
      "True\n",
      "True\n"
     ]
    }
   ],
   "source": [
    "for i in datesTest:\n",
    "    passFail = lightcurveSatify(inputCriteriaName, lc[lc['jd']<=i])\n",
    "    print(passFail)"
   ]
  },
  {
   "cell_type": "code",
   "execution_count": 26,
   "id": "behavioral-tenant",
   "metadata": {},
   "outputs": [
    {
     "data": {
      "text/plain": [
       "['g', 'r']"
      ]
     },
     "execution_count": 26,
     "metadata": {},
     "output_type": "execute_result"
    }
   ],
   "source": [
    "[filterDict[x] for x in np.unique(lc['fid'])]"
   ]
  },
  {
   "cell_type": "code",
   "execution_count": 30,
   "id": "stylish-forwarding",
   "metadata": {},
   "outputs": [
    {
     "data": {
      "text/plain": [
       "1"
      ]
     },
     "execution_count": 30,
     "metadata": {},
     "output_type": "execute_result"
    }
   ],
   "source": [
    "filterDict['g']"
   ]
  },
  {
   "cell_type": "code",
   "execution_count": 35,
   "id": "downtown-compensation",
   "metadata": {},
   "outputs": [
    {
     "data": {
      "text/plain": [
       "['g', 'r', 'i', 'z']"
      ]
     },
     "execution_count": 35,
     "metadata": {},
     "output_type": "execute_result"
    }
   ],
   "source": [
    "inputCriteriaName['filters']"
   ]
  },
  {
   "cell_type": "code",
   "execution_count": 39,
   "id": "adjusted-columbus",
   "metadata": {},
   "outputs": [
    {
     "data": {
      "text/plain": [
       "[True,\n",
       " True,\n",
       " True,\n",
       " True,\n",
       " True,\n",
       " True,\n",
       " True,\n",
       " True,\n",
       " True,\n",
       " True,\n",
       " True,\n",
       " True,\n",
       " True,\n",
       " True,\n",
       " True,\n",
       " True,\n",
       " True,\n",
       " True,\n",
       " True,\n",
       " True,\n",
       " True,\n",
       " True]"
      ]
     },
     "execution_count": 39,
     "metadata": {},
     "output_type": "execute_result"
    }
   ],
   "source": [
    "[filterDict[x] in inputCriteriaName['filters'] for x in lc['fid']]"
   ]
  },
  {
   "cell_type": "code",
   "execution_count": null,
   "id": "arabic-eclipse",
   "metadata": {},
   "outputs": [],
   "source": []
  }
 ],
 "metadata": {
  "kernelspec": {
   "display_name": "TiDES",
   "language": "python",
   "name": "tides"
  },
  "language_info": {
   "codemirror_mode": {
    "name": "ipython",
    "version": 3
   },
   "file_extension": ".py",
   "mimetype": "text/x-python",
   "name": "python",
   "nbconvert_exporter": "python",
   "pygments_lexer": "ipython3",
   "version": "3.9.2"
  }
 },
 "nbformat": 4,
 "nbformat_minor": 5
}
